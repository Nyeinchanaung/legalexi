{
 "cells": [
  {
   "cell_type": "code",
   "execution_count": null,
   "id": "7e2a91b1-cd24-4f6c-a1ad-a4cd824478ed",
   "metadata": {
    "colab": {
     "base_uri": "https://localhost:8080/"
    },
    "id": "7e2a91b1-cd24-4f6c-a1ad-a4cd824478ed",
    "outputId": "f7f6034b-2e69-47ec-ab0b-ce98bd05e243"
   },
   "outputs": [
    {
     "name": "stdout",
     "output_type": "stream",
     "text": [
      "\u001b[?25l   \u001b[90m━━━━━━━━━━━━━━━━━━━━━━━━━━━━━━━━━━━━━━━━\u001b[0m \u001b[32m0.0/491.2 kB\u001b[0m \u001b[31m?\u001b[0m eta \u001b[36m-:--:--\u001b[0m\r",
      "\u001b[2K   \u001b[90m━━━━━━━━━━━━━━━━━━━━━━━━━━━━━━━━━━━━━━━━\u001b[0m \u001b[32m491.2/491.2 kB\u001b[0m \u001b[31m29.8 MB/s\u001b[0m eta \u001b[36m0:00:00\u001b[0m\n",
      "\u001b[?25h\u001b[?25l   \u001b[90m━━━━━━━━━━━━━━━━━━━━━━━━━━━━━━━━━━━━━━━━\u001b[0m \u001b[32m0.0/116.3 kB\u001b[0m \u001b[31m?\u001b[0m eta \u001b[36m-:--:--\u001b[0m\r",
      "\u001b[2K   \u001b[90m━━━━━━━━━━━━━━━━━━━━━━━━━━━━━━━━━━━━━━━━\u001b[0m \u001b[32m116.3/116.3 kB\u001b[0m \u001b[31m10.9 MB/s\u001b[0m eta \u001b[36m0:00:00\u001b[0m\n",
      "\u001b[?25h\u001b[?25l   \u001b[90m━━━━━━━━━━━━━━━━━━━━━━━━━━━━━━━━━━━━━━━━\u001b[0m \u001b[32m0.0/183.9 kB\u001b[0m \u001b[31m?\u001b[0m eta \u001b[36m-:--:--\u001b[0m\r",
      "\u001b[2K   \u001b[90m━━━━━━━━━━━━━━━━━━━━━━━━━━━━━━━━━━━━━━━━\u001b[0m \u001b[32m183.9/183.9 kB\u001b[0m \u001b[31m17.1 MB/s\u001b[0m eta \u001b[36m0:00:00\u001b[0m\n",
      "\u001b[2K   \u001b[90m━━━━━━━━━━━━━━━━━━━━━━━━━━━━━━━━━━━━━━━━\u001b[0m \u001b[32m143.5/143.5 kB\u001b[0m \u001b[31m13.4 MB/s\u001b[0m eta \u001b[36m0:00:00\u001b[0m\n",
      "\u001b[2K   \u001b[90m━━━━━━━━━━━━━━━━━━━━━━━━━━━━━━━━━━━━━━━━\u001b[0m \u001b[32m363.4/363.4 MB\u001b[0m \u001b[31m2.9 MB/s\u001b[0m eta \u001b[36m0:00:00\u001b[0m\n",
      "\u001b[2K   \u001b[90m━━━━━━━━━━━━━━━━━━━━━━━━━━━━━━━━━━━━━━━━\u001b[0m \u001b[32m13.8/13.8 MB\u001b[0m \u001b[31m113.0 MB/s\u001b[0m eta \u001b[36m0:00:00\u001b[0m\n",
      "\u001b[2K   \u001b[90m━━━━━━━━━━━━━━━━━━━━━━━━━━━━━━━━━━━━━━━━\u001b[0m \u001b[32m24.6/24.6 MB\u001b[0m \u001b[31m87.7 MB/s\u001b[0m eta \u001b[36m0:00:00\u001b[0m\n",
      "\u001b[2K   \u001b[90m━━━━━━━━━━━━━━━━━━━━━━━━━━━━━━━━━━━━━━━━\u001b[0m \u001b[32m883.7/883.7 kB\u001b[0m \u001b[31m54.0 MB/s\u001b[0m eta \u001b[36m0:00:00\u001b[0m\n",
      "\u001b[2K   \u001b[90m━━━━━━━━━━━━━━━━━━━━━━━━━━━━━━━━━━━━━━━━\u001b[0m \u001b[32m664.8/664.8 MB\u001b[0m \u001b[31m1.7 MB/s\u001b[0m eta \u001b[36m0:00:00\u001b[0m\n",
      "\u001b[2K   \u001b[90m━━━━━━━━━━━━━━━━━━━━━━━━━━━━━━━━━━━━━━━━\u001b[0m \u001b[32m211.5/211.5 MB\u001b[0m \u001b[31m10.7 MB/s\u001b[0m eta \u001b[36m0:00:00\u001b[0m\n",
      "\u001b[2K   \u001b[90m━━━━━━━━━━━━━━━━━━━━━━━━━━━━━━━━━━━━━━━━\u001b[0m \u001b[32m56.3/56.3 MB\u001b[0m \u001b[31m40.0 MB/s\u001b[0m eta \u001b[36m0:00:00\u001b[0m\n",
      "\u001b[2K   \u001b[90m━━━━━━━━━━━━━━━━━━━━━━━━━━━━━━━━━━━━━━━━\u001b[0m \u001b[32m127.9/127.9 MB\u001b[0m \u001b[31m17.8 MB/s\u001b[0m eta \u001b[36m0:00:00\u001b[0m\n",
      "\u001b[2K   \u001b[90m━━━━━━━━━━━━━━━━━━━━━━━━━━━━━━━━━━━━━━━━\u001b[0m \u001b[32m207.5/207.5 MB\u001b[0m \u001b[31m3.2 MB/s\u001b[0m eta \u001b[36m0:00:00\u001b[0m\n",
      "\u001b[?25h\u001b[33mWARNING: Retrying (Retry(total=4, connect=None, read=None, redirect=None, status=None)) after connection broken by 'ProtocolError('Connection aborted.', RemoteDisconnected('Remote end closed connection without response'))': /packages/ff/ff/847841bacfbefc97a00036e0fce5a0f086b640756dc38caea5e1bb002655/nvidia_nvjitlink_cu12-12.4.127-py3-none-manylinux2014_x86_64.whl\u001b[0m\u001b[33m\n",
      "\u001b[2K   \u001b[90m━━━━━━━━━━━━━━━━━━━━━━━━━━━━━━━━━━━━━━━━\u001b[0m \u001b[32m21.1/21.1 MB\u001b[0m \u001b[31m91.7 MB/s\u001b[0m eta \u001b[36m0:00:00\u001b[0m\n",
      "\u001b[2K   \u001b[90m━━━━━━━━━━━━━━━━━━━━━━━━━━━━━━━━━━━━━━━━\u001b[0m \u001b[32m194.8/194.8 kB\u001b[0m \u001b[31m16.6 MB/s\u001b[0m eta \u001b[36m0:00:00\u001b[0m\n",
      "\u001b[?25h\u001b[31mERROR: pip's dependency resolver does not currently take into account all the packages that are installed. This behaviour is the source of the following dependency conflicts.\n",
      "gcsfs 2025.3.2 requires fsspec==2025.3.2, but you have fsspec 2024.12.0 which is incompatible.\u001b[0m\u001b[31m\n",
      "\u001b[0m"
     ]
    }
   ],
   "source": [
    "!pip install transformers peft accelerate datasets sentencepiece --quiet"
   ]
  },
  {
   "cell_type": "code",
   "execution_count": null,
   "id": "E32IYLDu2xFE",
   "metadata": {
    "colab": {
     "base_uri": "https://localhost:8080/"
    },
    "id": "E32IYLDu2xFE",
    "outputId": "83f8a333-4246-4014-b710-b56bc3afae0e"
   },
   "outputs": [
    {
     "name": "stdout",
     "output_type": "stream",
     "text": [
      "Drive already mounted at /content/drive; to attempt to forcibly remount, call drive.mount(\"/content/drive\", force_remount=True).\n"
     ]
    }
   ],
   "source": [
    "from google.colab import drive\n",
    "drive.mount('/content/drive')"
   ]
  },
  {
   "cell_type": "code",
   "execution_count": null,
   "id": "vmgWCzZG2YXj",
   "metadata": {
    "colab": {
     "base_uri": "https://localhost:8080/"
    },
    "id": "vmgWCzZG2YXj",
    "outputId": "8ed5bd8e-bcac-4d2b-c0e2-02203e01e7fa"
   },
   "outputs": [
    {
     "name": "stdout",
     "output_type": "stream",
     "text": [
      "Using: NVIDIA A100-SXM4-40GB\n"
     ]
    }
   ],
   "source": [
    "import os\n",
    "import torch\n",
    "from transformers import (\n",
    "    AutoTokenizer, AutoModelForCausalLM,\n",
    "    TextDataset, DataCollatorForLanguageModeling,\n",
    "    Trainer, TrainingArguments\n",
    ")\n",
    "from peft import get_peft_model, LoraConfig, TaskType\n",
    "\n",
    "print(\"Using:\", torch.cuda.get_device_name(0) if torch.cuda.is_available() else \"CPU\")\n",
    "device = torch.device(\"cuda\" if torch.cuda.is_available() else \"cpu\")"
   ]
  },
  {
   "cell_type": "code",
   "execution_count": null,
   "id": "a2eedc73-437e-4b0f-a278-9914b6700bb4",
   "metadata": {
    "id": "a2eedc73-437e-4b0f-a278-9914b6700bb4"
   },
   "outputs": [],
   "source": [
    "def load_data(file_path):\n",
    "    with open(file_path, 'r') as f:\n",
    "        data = json.load(f)\n",
    "    return data"
   ]
  },
  {
   "cell_type": "code",
   "execution_count": null,
   "id": "cf7cda79-67ee-4028-ae19-8774ae51674a",
   "metadata": {
    "id": "cf7cda79-67ee-4028-ae19-8774ae51674a"
   },
   "outputs": [],
   "source": [
    "import json\n",
    "# Load train, dev, and test data\n",
    "train_data = load_data('/content/drive/MyDrive/Colab Notebooks/datasets/train.json')\n",
    "dev_data = load_data('/content/drive/MyDrive/Colab Notebooks/datasets/dev.json')\n",
    "test_data = load_data('/content/drive/MyDrive/Colab Notebooks/datasets/test.json')"
   ]
  },
  {
   "cell_type": "code",
   "execution_count": null,
   "id": "e2ac6836-5b11-45f0-b753-034317229eaf",
   "metadata": {
    "colab": {
     "base_uri": "https://localhost:8080/"
    },
    "id": "e2ac6836-5b11-45f0-b753-034317229eaf",
    "outputId": "b66f5383-664c-4789-9931-6cac745ac350"
   },
   "outputs": [
    {
     "name": "stdout",
     "output_type": "stream",
     "text": [
      "dict_keys(['documents', 'labels'])\n",
      "dict_keys(['documents', 'labels'])\n",
      "dict_keys(['documents', 'labels'])\n"
     ]
    }
   ],
   "source": [
    "# Check the keys of the train_data dictionary\n",
    "print(train_data.keys())  # Check the keys in the dictionary\n",
    "print(dev_data.keys())    # Check the keys in the dev_data dictionary\n",
    "print(test_data.keys())   # Check the keys in the test_data dictionary"
   ]
  },
  {
   "cell_type": "code",
   "execution_count": null,
   "id": "dfda3b3f-fcbf-4331-bf72-13ea64e54253",
   "metadata": {
    "id": "dfda3b3f-fcbf-4331-bf72-13ea64e54253"
   },
   "outputs": [],
   "source": [
    "def extract_text(data, key='documents'):\n",
    "    # Extract the 'text' field from each dictionary in the list under the 'documents' key\n",
    "    return [entry['text'] for entry in data[key]]  # Ensure 'text' is the correct field name"
   ]
  },
  {
   "cell_type": "code",
   "execution_count": null,
   "id": "007fb771-c1f5-4fbc-975f-2c60bd771e99",
   "metadata": {
    "colab": {
     "base_uri": "https://localhost:8080/"
    },
    "id": "007fb771-c1f5-4fbc-975f-2c60bd771e99",
    "outputId": "15919ecd-37e1-4c6d-f479-284abec6b905"
   },
   "outputs": [
    {
     "name": "stdout",
     "output_type": "stream",
     "text": [
      "[\"NON-DISCLOSURE AND CONFIDENTIALITY AGREEMENT\\nThis NON-DISCLOSURE AND CONFIDENTIALITY AGREEMENT (“Agreement”) is made by and between:\\n(i) the Office of the United Nations High Commissioner for Refugees, having its headquarters located at 94 rue de Montbrillant, 1202 Geneva, Switzerland (hereinafter “UNHCR” or the “Discloser”); and\\n(ii) ________________________ , a company established in accordance with the laws of ________________________ and having its principal offices located at ________________________________________________ (hereinafter the “Bidder” or the “Recipient”).\\nThe Discloser and Recipient are also referred to collectively as the “Parties” and individually as a “Party”.\\nRECITALS\\nWHEREAS in connection with RFP/2014/620, Request for Proposal for the provision Off-the-shelf Soft-skill, IT Online and HR specific E-learning Courses (the “RFP”), it is advantageous to share certain data and information with the Bidder participating in the RFP;\\nWHEREAS UNHCR agrees to provide such data and information to the Bidder for the sole purpose of preparing its Proposal under said RFP;\\nWHEREAS the Bidder is willing to ensure that UNHCR’s data and information will be held in strict confidence and only used for the permitted purpose;\\nNOW, THEREFORE, the Parties agree as follows:\\n1. “Confidential Information”, whenever used in this Agreement, shall mean any data, document, specification and other information or material, that is delivered or disclosed by UNHCR to the Recipient in any form whatsoever, whether orally, visually in writing or otherwise (including computerized form), and that, at the time of disclosure to the Recipient, is designated as confidential.\\n2. The Confidential Information that is delivered or otherwise disclosed by the Discloser to the Recipient shall be held in trust and confidence by the Recipient and shall be handled as follows:\\n2.1 The Recipient shall use the same care and discretion to avoid disclosure, publication or dissemination of the Confidential Information as it uses with its own similar information that it does not wish to disclose, publish or disseminate;\\n2.2 The Recipient shall use the Confidential Information solely for the purpose for which it was disclosed;\\n2.3 Provided that the Recipient has a written agreement with the following persons or entities requiring them to treat the Confidential Information in accordance with this Agreement, the Recipient may disclose the Confidential Information to:\\n2.3.1 Any other party with the Discloser’s prior written consent; and\\n2.3.2 the Recipient’s employees, officials, representatives and agents who have a strict need to know the contents of the Confidential Information, and employees, officials, representatives and agents of any legal entity that it controls, controls it, or with which it is under common control, who have a similar need to know the contents of the Confidential Information, provided that, for these purposes a controlled legal entity means:\\n2.3.2.1 a corporate entity in which the Party owns or otherwise controls, whether directly or indirectly, over fifty percent (50%) of voting shares thereof; or,\\n2.3.2.2 any entity over which the Party exercises effective managerial control; or,\\n2.3.2.3 for UNHCR, a principal or subsidiary organ of the United Nations established in accordance with the Charter of the United Nations.\\n2.4 The Recipient may disclose the Confidential Information to the extent required by law, provided that, subject to and without any waiver of the privileges and immunities of UNHCR, the Recipient will give UNHCR sufficient prior notice of a request for the disclosure of the Confidential Information in order to allow UNHCR to have a reasonable opportunity to take protective measures or such other action as may be appropriate before any such disclosure is made.\\n2.5 The Recipient shall not be precluded from disclosing the Confidential Information that is (i) obtained by the Recipient without restriction from a third party who is not in breach of any obligation as to confidentiality to the owner of such Confidential Information or any other person, or (ii) disclosed by the Discloser to a third party without any obligation of confidentiality, or (iii) previously known by the Recipient, or (iv) at any time is developed by the Recipient completely independently of any disclosures hereunder.\\n2.6 The Recipient will not copy or reproduce the Confidential Information except as reasonably required for the purposes contemplated in this Agreement, and will ensure that any confidentiality or other proprietary rights notices on the Confidential Information are reproduced on all copies.\\n3. The Recipient acknowledges that UNHCR hereto makes no any representation or warranty, express or implied, as to the accuracy or completeness of the Confidential Information.\\n4. Nothing in this Agreement is to be construed as granting the Recipient, by implication or otherwise, any right whatsoever with respect to the Confidential Information or part thereof.\\n5. All Confidential Information in any form and any medium, including all copies thereof, disclosed to the Recipient shall be returned to UNHCR or destroyed: (a) if a business relationship is not entered into with UNHCR on or before the date which is three (3) months after the date both Parties have signed the Agreement; or (b) promptly upon request by the UNHCR at any time.\\n6. The Recipient agrees to indemnify UNHCR in respect of any expenses, losses, damages, costs, claims or liability UNHCR may suffer or incur as a result of an act or omission by the Recipient or its employees, consultants and agents in connection with the Confidential Information and the Recipient’s obligations under this Agreement.\\n7. Nothing in this Agreement shall be construed as obligating any Party to continue any discussions or to enter into a business relationship.\\n8. This Agreement shall enter into force on the date it is signed by both Parties. Either Party may terminate the working relationship contemplated by this Agreement by providing written notice to the other, provided, however, that the obligations and restrictions hereunder regarding the Confidential Information shall remain effective following any such termination or any other termination or expiration of this Agreement.\\n9. Any dispute, controversy or claim between the Parties arising out of, this Agreement or the breach, termination or invalidity thereof, unless settled amicably within twenty (20) days after receipt by one Party of the other Party's request for such amicable settlement, shall be referred by either Party to arbitration in accordance with the UNCITRAL Arbitration Rules then obtaining, including provisions on applicable law. The arbitral tribunal shall have no authority to award punitive damages. In addition, unless otherwise expressly provided in this Agreement, the arbitral tribunal shall have no authority to award interest. The Parties shall be bound by any arbitration award rendered as a result of such arbitration as the final adjudication of any such controversy, claim or dispute.\\n10. Nothing in or relating to this Agreement shall be deemed a waiver, express or implied, of any of the privileges and immunities of the United Nations, including UNHCR as its subsidiary organ.\\n11. The Recipient shall not advertise or otherwise make public the fact that it has a confidential relationship with UNHCR, nor shall the Recipient, in any manner whatsoever use the name, emblem, or official seal of the United Nations or UNHCR, or any abbreviation of the name of the United Nations or UNHCR in connection with its business or otherwise.\\n12. If any provision of this Agreement shall be held to be invalid, illegal or unenforceable, the validity, legality and enforceability of the remaining provisions shall not in any way be affected or impaired.\\n13. This Agreement constitutes the entire agreement concerning the subject matter hereof above and supersedes all prior representations, agreements and understandings, whether written or oral, by and between the Parties on the subject hereof.\\n14. The Parties acknowledge and agree that their representatives who have signed this Agreement had full authority to do so and to fully bind the Party being represented by doing so.\\nIN WITNESS WHEREOF, the Parties, acting through their authorized representatives, have caused this Agreement to be signed on the dates set forth below:\\nFor and on behalf of UNHCR: For and on behalf of the Bidder:\\n________________________ ________________________\\n Name: Name:\\nTitle: Title:\\n Date: Date:\\n\"]\n"
     ]
    }
   ],
   "source": [
    "train_texts = extract_text(train_data, key='documents')\n",
    "dev_texts = extract_text(dev_data, key='documents')\n",
    "test_texts = extract_text(test_data, key='documents')\n",
    "\n",
    "# Print the first 5 texts to verify\n",
    "print(train_texts[:1])"
   ]
  },
  {
   "cell_type": "code",
   "execution_count": null,
   "id": "50a420c4-6df6-4334-9d13-46c2d1762783",
   "metadata": {
    "id": "50a420c4-6df6-4334-9d13-46c2d1762783"
   },
   "outputs": [],
   "source": [
    "with open(\"/content/drive/MyDrive/Colab Notebooks/datasets/legal_docs.txt\", \"w\", encoding=\"utf-8\") as f:\n",
    "    for doc in train_texts:\n",
    "        doc = doc.replace(\"\\n\", \" \").strip()  # Optional: flatten formatting\n",
    "        f.write(doc + \"\\n\\n\")  # Separate docs with double line breaks"
   ]
  },
  {
   "cell_type": "code",
   "execution_count": null,
   "id": "117c1e78-767e-42dd-bfa4-4c2fa92c6c8b",
   "metadata": {
    "id": "117c1e78-767e-42dd-bfa4-4c2fa92c6c8b"
   },
   "outputs": [],
   "source": [
    "with open(\"/content/drive/MyDrive/Colab Notebooks/datasets/legal_eval.txt\", \"w\", encoding=\"utf-8\") as f:\n",
    "    for doc in dev_texts:\n",
    "        doc = doc.replace(\"\\n\", \" \").strip()\n",
    "        f.write(doc + \"\\n\\n\")"
   ]
  },
  {
   "cell_type": "code",
   "execution_count": null,
   "id": "1d781003-75b7-4fa0-9524-5962d676f73e",
   "metadata": {
    "colab": {
     "base_uri": "https://localhost:8080/"
    },
    "id": "1d781003-75b7-4fa0-9524-5962d676f73e",
    "outputId": "82904375-41a9-4ccd-9936-65c0f302ab87"
   },
   "outputs": [
    {
     "name": "stdout",
     "output_type": "stream",
     "text": [
      "\n",
      "--- Document 1 ---\n",
      "NON-DISCLOSURE AND CONFIDENTIALITY AGREEMENT This NON-DISCLOSURE AND CONFIDENTIALITY AGREEMENT (“Agreement”) is made by and between: (i) the Office of the United Nations High Commissioner for Refugees, having its headquarters located at 94 rue de Montbrillant, 1202 Geneva, Switzerland (hereinafter “UNHCR” or the “Discloser”); and (ii) ________________________ , a company established in accordance with the laws of ________________________ and having its principal offices located at ______________...\n",
      "\n",
      "\n",
      "--- Document 2 ---\n",
      "NON-DISCLOSURE AGREEMENT AND TERMS OF PARTICIPATION Table of Content 1 Eligibility ..........................................................................................................................................2 2 Procedure and terms of participation ...............................................................................................3 3 Payment ......................................................................................................................................\n",
      "\n",
      "\n",
      "--- Document 3 ---\n",
      "Mutual Non-Disclosure and Use of Information Agreement to Support Emergency Cyber Mutual Assistance This Non-Disclosure and Use of Information Agreement (the \"Agreement'') is made and entered into as of this 15th day of June, 2016 by and among each entity that executes and delivers the signature page to this Agreement (each, a \"Participating Entity\" and collectively, the \"Participating Entities\"). A. Each Participating Entity is participating in a voluntary effort to assist the Electricity Subse...\n",
      "\n",
      "\n",
      "--- Document 4 ---\n",
      "MUTUAL NON-DISCLOSURE AGREEMENT This Non-Disclosure Agreement (“Agreement”) is made on ___ day of ___ 20__, (“effective date”) by and between _____________________, a _____________ Corporation, (“XXXXX”) and Data Boiler Technologies, LLC., a Massachusetts corporation (“DBT”). WHEREAS, DBT and XXX (the “Parties”) desire to engage in business related discussions and negotiations regarding a potential business relationship (“Transaction”). WHEREAS, the Parties may provide to each other certain conf...\n",
      "\n"
     ]
    }
   ],
   "source": [
    "output_path = \"/content/drive/MyDrive/Colab Notebooks/datasets/legal_docs.txt\"\n",
    "\n",
    "with open(output_path, \"r\", encoding=\"utf-8\") as f:\n",
    "    preview = f.read().split(\"\\n\\n\")[:4]\n",
    "    for i, doc in enumerate(preview, 1):\n",
    "        print(f\"\\n--- Document {i} ---\\n{doc[:500]}...\\n\")"
   ]
  },
  {
   "cell_type": "code",
   "execution_count": null,
   "id": "d83d09f5-fa96-4350-b3c7-38e610b3deac",
   "metadata": {
    "id": "d83d09f5-fa96-4350-b3c7-38e610b3deac"
   },
   "outputs": [],
   "source": [
    "# model_name = \"meta-llama/Meta-Llama-3-8B-Instruct\"\n",
    "# tokenizer = GPT2Tokenizer.from_pretrained(model_name)\n",
    "# tokenizer.pad_token = tokenizer.eos_token\n",
    "\n",
    "# model = GPT2LMHeadModel.from_pretrained(model_name)\n",
    "# model.resize_token_embeddings(len(tokenizer))"
   ]
  },
  {
   "cell_type": "code",
   "execution_count": null,
   "id": "2d0cf2d5-4bbf-4cfe-9ba6-503ae56073b3",
   "metadata": {
    "colab": {
     "base_uri": "https://localhost:8080/",
     "height": 191,
     "referenced_widgets": [
      "65ab725f11ef49d5836f17ba4f34ec19",
      "1dc01745dec84b4d91ee03971feec55e",
      "9844e3ddeb7c4b15aa8f85dbdd193b72",
      "d03ac820b5854bbbadecd281f7f897b9",
      "288cfb0a660f4e709dcfeb0e08cf0865",
      "106cbd4feb9641a7953641031a2ce2ea",
      "4aaba1adb0a243528e1f00842287c66c",
      "67055c547de24c8bb95057d2f61a6c28",
      "2e006e6a2a7b4081ab1c606d83b140bd",
      "68bff889d8fd45b5ba9100d44c30da15",
      "e2384d8c8c5c4172b864f87549e50c1a"
     ]
    },
    "id": "2d0cf2d5-4bbf-4cfe-9ba6-503ae56073b3",
    "outputId": "9fe41475-7138-4c5e-e353-395bf072ba39"
   },
   "outputs": [
    {
     "name": "stderr",
     "output_type": "stream",
     "text": [
      "/usr/local/lib/python3.11/dist-packages/huggingface_hub/utils/_auth.py:94: UserWarning: \n",
      "The secret `HF_TOKEN` does not exist in your Colab secrets.\n",
      "To authenticate with the Hugging Face Hub, create a token in your settings tab (https://huggingface.co/settings/tokens), set it as secret in your Google Colab and restart your session.\n",
      "You will be able to reuse this secret in all of your notebooks.\n",
      "Please note that authentication is recommended but still optional to access public models or datasets.\n",
      "  warnings.warn(\n",
      "Sliding Window Attention is enabled but not implemented for `sdpa`; unexpected results may be encountered.\n"
     ]
    },
    {
     "data": {
      "application/vnd.jupyter.widget-view+json": {
       "model_id": "65ab725f11ef49d5836f17ba4f34ec19",
       "version_major": 2,
       "version_minor": 0
      },
      "text/plain": [
       "Loading checkpoint shards:   0%|          | 0/4 [00:00<?, ?it/s]"
      ]
     },
     "metadata": {},
     "output_type": "display_data"
    }
   ],
   "source": [
    "# Step 3: Load Pretrained LLaMA-3 Instruct Model\n",
    "model_name = \"Qwen/Qwen2.5-7B-Instruct\"\n",
    "tokenizer = AutoTokenizer.from_pretrained(model_name, trust_remote_code=True)\n",
    "model = AutoModelForCausalLM.from_pretrained(model_name, device_map=\"auto\", trust_remote_code=True, torch_dtype=torch.float16)"
   ]
  },
  {
   "cell_type": "code",
   "execution_count": null,
   "id": "acd7f483-18d7-4917-b240-7cf8fac0a9cc",
   "metadata": {
    "colab": {
     "base_uri": "https://localhost:8080/"
    },
    "id": "acd7f483-18d7-4917-b240-7cf8fac0a9cc",
    "outputId": "3c55eb3f-d7b8-4f79-ef9a-074b1671603d"
   },
   "outputs": [
    {
     "name": "stderr",
     "output_type": "stream",
     "text": [
      "/usr/local/lib/python3.11/dist-packages/transformers/data/datasets/language_modeling.py:53: FutureWarning: This dataset will be removed from the library soon, preprocessing should be handled with the 🤗 Datasets library. You can have a look at this example script for pointers: https://github.com/huggingface/transformers/blob/main/examples/pytorch/language-modeling/run_mlm.py\n",
      "  warnings.warn(\n"
     ]
    }
   ],
   "source": [
    "def load_dataset(file_path, tokenizer, block_size=512):\n",
    "    return TextDataset(\n",
    "        tokenizer=tokenizer,\n",
    "        file_path=file_path,\n",
    "        block_size=block_size\n",
    "    )\n",
    "\n",
    "train_dataset = load_dataset(\"/content/drive/MyDrive/Colab Notebooks/datasets/legal_docs.txt\", tokenizer)\n",
    "data_collator = DataCollatorForLanguageModeling(tokenizer=tokenizer, mlm=False)"
   ]
  },
  {
   "cell_type": "code",
   "execution_count": null,
   "id": "4f2eeaca-397c-4555-abab-70704d0341ea",
   "metadata": {
    "id": "4f2eeaca-397c-4555-abab-70704d0341ea"
   },
   "outputs": [],
   "source": [
    "peft_config = LoraConfig(\n",
    "    task_type=TaskType.CAUSAL_LM,\n",
    "    r=8,\n",
    "    lora_alpha=32,\n",
    "    lora_dropout=0.05\n",
    ")\n",
    "model = get_peft_model(model, peft_config)"
   ]
  },
  {
   "cell_type": "code",
   "execution_count": null,
   "id": "0ca1c0d6-fc7d-4333-916e-24a69e9e1e8d",
   "metadata": {
    "colab": {
     "base_uri": "https://localhost:8080/",
     "height": 607
    },
    "id": "0ca1c0d6-fc7d-4333-916e-24a69e9e1e8d",
    "outputId": "4d3243bb-5917-4cd6-b238-3b63cf246fb9"
   },
   "outputs": [
    {
     "name": "stderr",
     "output_type": "stream",
     "text": [
      "Using the `WANDB_DISABLED` environment variable is deprecated and will be removed in v5. Use the --report_to flag to control the integrations used for logging result (for instance --report_to none).\n",
      "<ipython-input-15-6fa1b15849d1>:16: FutureWarning: `tokenizer` is deprecated and will be removed in version 5.0.0 for `Trainer.__init__`. Use `processing_class` instead.\n",
      "  trainer = Trainer(\n",
      "No label_names provided for model class `PeftModelForCausalLM`. Since `PeftModel` hides base models input arguments, if label_names is not given, label_names can't be set automatically within `Trainer`. Note that empty label_names list will be used instead.\n"
     ]
    },
    {
     "data": {
      "text/html": [
       "\n",
       "    <div>\n",
       "      \n",
       "      <progress value='1326' max='1326' style='width:300px; height:20px; vertical-align: middle;'></progress>\n",
       "      [1326/1326 13:20, Epoch 3/3]\n",
       "    </div>\n",
       "    <table border=\"1\" class=\"dataframe\">\n",
       "  <thead>\n",
       " <tr style=\"text-align: left;\">\n",
       "      <th>Step</th>\n",
       "      <th>Training Loss</th>\n",
       "    </tr>\n",
       "  </thead>\n",
       "  <tbody>\n",
       "    <tr>\n",
       "      <td>100</td>\n",
       "      <td>1.584900</td>\n",
       "    </tr>\n",
       "    <tr>\n",
       "      <td>200</td>\n",
       "      <td>1.541300</td>\n",
       "    </tr>\n",
       "    <tr>\n",
       "      <td>300</td>\n",
       "      <td>1.524500</td>\n",
       "    </tr>\n",
       "    <tr>\n",
       "      <td>400</td>\n",
       "      <td>1.513100</td>\n",
       "    </tr>\n",
       "    <tr>\n",
       "      <td>500</td>\n",
       "      <td>1.500800</td>\n",
       "    </tr>\n",
       "    <tr>\n",
       "      <td>600</td>\n",
       "      <td>1.524700</td>\n",
       "    </tr>\n",
       "    <tr>\n",
       "      <td>700</td>\n",
       "      <td>1.495600</td>\n",
       "    </tr>\n",
       "    <tr>\n",
       "      <td>800</td>\n",
       "      <td>1.493700</td>\n",
       "    </tr>\n",
       "    <tr>\n",
       "      <td>900</td>\n",
       "      <td>1.479500</td>\n",
       "    </tr>\n",
       "    <tr>\n",
       "      <td>1000</td>\n",
       "      <td>1.489700</td>\n",
       "    </tr>\n",
       "    <tr>\n",
       "      <td>1100</td>\n",
       "      <td>1.474700</td>\n",
       "    </tr>\n",
       "    <tr>\n",
       "      <td>1200</td>\n",
       "      <td>1.475700</td>\n",
       "    </tr>\n",
       "    <tr>\n",
       "      <td>1300</td>\n",
       "      <td>1.474300</td>\n",
       "    </tr>\n",
       "  </tbody>\n",
       "</table><p>"
      ],
      "text/plain": [
       "<IPython.core.display.HTML object>"
      ]
     },
     "metadata": {},
     "output_type": "display_data"
    },
    {
     "data": {
      "text/plain": [
       "TrainOutput(global_step=1326, training_loss=1.5049769083658855, metrics={'train_runtime': 801.9582, 'train_samples_per_second': 6.614, 'train_steps_per_second': 1.653, 'total_flos': 1.1524898798803354e+17, 'train_loss': 1.5049769083658855, 'epoch': 3.0})"
      ]
     },
     "execution_count": 15,
     "metadata": {},
     "output_type": "execute_result"
    }
   ],
   "source": [
    "os.environ[\"WANDB_DISABLED\"] = \"true\"\n",
    "training_args = TrainingArguments(\n",
    "    output_dir=\"./qwen_legal_model\",\n",
    "    overwrite_output_dir=True,\n",
    "    num_train_epochs=3,\n",
    "    per_device_train_batch_size=1,  # Reduce batch size to avoid CUDA OOM\n",
    "    gradient_accumulation_steps=4,  # Compensate for small batch size\n",
    "    save_steps=500,\n",
    "    save_total_limit=2,\n",
    "    logging_steps=100,\n",
    "    prediction_loss_only=True,\n",
    "    fp16=True\n",
    ")\n",
    "\n",
    "# Step 8: Train the Model\n",
    "trainer = Trainer(\n",
    "    model=model,\n",
    "    args=training_args,\n",
    "    data_collator=data_collator,\n",
    "    train_dataset=train_dataset,\n",
    "    tokenizer=tokenizer\n",
    ")\n",
    "\n",
    "trainer.train()"
   ]
  },
  {
   "cell_type": "code",
   "execution_count": null,
   "id": "92d10f4d-ca52-446f-879b-25caf9b9685d",
   "metadata": {
    "colab": {
     "base_uri": "https://localhost:8080/",
     "height": 487
    },
    "id": "92d10f4d-ca52-446f-879b-25caf9b9685d",
    "outputId": "5db331d6-f8cf-41fb-ccb6-12bebda69ccc"
   },
   "outputs": [
    {
     "data": {
      "image/png": "[encoded data removed]",
      "text/plain": [
       "<Figure size 800x500 with 1 Axes>"
      ]
     },
     "metadata": {},
     "output_type": "display_data"
    }
   ],
   "source": [
    "import matplotlib.pyplot as plt\n",
    "\n",
    "# Extract loss from trainer logs\n",
    "log_history = trainer.state.log_history\n",
    "loss_values = [entry[\"loss\"] for entry in log_history if \"loss\" in entry]\n",
    "steps = [entry[\"step\"] for entry in log_history if \"loss\" in entry]\n",
    "\n",
    "# Plot the loss\n",
    "plt.figure(figsize=(8, 5))\n",
    "plt.plot(steps, loss_values, marker='o')\n",
    "plt.xlabel(\"Training Step\")\n",
    "plt.ylabel(\"Loss\")\n",
    "plt.title(\"Training Loss Over Time\")\n",
    "plt.grid(True)\n",
    "plt.show()\n"
   ]
  },
  {
   "cell_type": "code",
   "execution_count": null,
   "id": "062d07ee-3c35-45f8-b394-525ea34459b3",
   "metadata": {
    "colab": {
     "base_uri": "https://localhost:8080/"
    },
    "id": "062d07ee-3c35-45f8-b394-525ea34459b3",
    "outputId": "0d2b71b6-1797-4c3f-bb00-bbcb158b3efa"
   },
   "outputs": [
    {
     "name": "stderr",
     "output_type": "stream",
     "text": [
      "/usr/local/lib/python3.11/dist-packages/transformers/data/datasets/language_modeling.py:53: FutureWarning: This dataset will be removed from the library soon, preprocessing should be handled with the 🤗 Datasets library. You can have a look at this example script for pointers: https://github.com/huggingface/transformers/blob/main/examples/pytorch/language-modeling/run_mlm.py\n",
      "  warnings.warn(\n",
      "Token indices sequence length is longer than the specified maximum sequence length for this model (141947 > 131072). Running this sequence through the model will result in indexing errors\n"
     ]
    }
   ],
   "source": [
    "from transformers import TextDataset\n",
    "\n",
    "eval_dataset = TextDataset(\n",
    "    tokenizer=tokenizer,\n",
    "    file_path=\"/content/drive/MyDrive/Colab Notebooks/datasets/legal_eval.txt\",\n",
    "    block_size=512\n",
    ")"
   ]
  },
  {
   "cell_type": "code",
   "execution_count": null,
   "id": "30701777-9782-4fbd-8315-b73f8bbaea32",
   "metadata": {
    "colab": {
     "base_uri": "https://localhost:8080/",
     "height": 54
    },
    "id": "30701777-9782-4fbd-8315-b73f8bbaea32",
    "outputId": "443d2924-388d-4ce1-cf0c-a384d9b2a495"
   },
   "outputs": [
    {
     "data": {
      "text/html": [
       "\n",
       "    <div>\n",
       "      \n",
       "      <progress value='35' max='35' style='width:300px; height:20px; vertical-align: middle;'></progress>\n",
       "      [35/35 00:11]\n",
       "    </div>\n",
       "    "
      ],
      "text/plain": [
       "<IPython.core.display.HTML object>"
      ]
     },
     "metadata": {},
     "output_type": "display_data"
    },
    {
     "name": "stdout",
     "output_type": "stream",
     "text": [
      "{'eval_loss': 1.507294774055481, 'eval_runtime': 11.961, 'eval_samples_per_second': 23.159, 'eval_steps_per_second': 2.926, 'epoch': 3.0}\n"
     ]
    }
   ],
   "source": [
    "eval_results = trainer.evaluate(eval_dataset=eval_dataset)\n",
    "print(eval_results)"
   ]
  },
  {
   "cell_type": "code",
   "execution_count": null,
   "id": "9942384d-567c-44f7-bf6e-10014c16cd5e",
   "metadata": {
    "colab": {
     "base_uri": "https://localhost:8080/"
    },
    "id": "9942384d-567c-44f7-bf6e-10014c16cd5e",
    "outputId": "ea6e57e3-d5ce-4465-eb5b-23615cdde0b1"
   },
   "outputs": [
    {
     "name": "stdout",
     "output_type": "stream",
     "text": [
      "Perplexity: 4.51\n"
     ]
    }
   ],
   "source": [
    "import math\n",
    "perplexity = math.exp(eval_results[\"eval_loss\"])\n",
    "print(f\"Perplexity: {perplexity:.2f}\")"
   ]
  },
  {
   "cell_type": "code",
   "execution_count": null,
   "id": "41e1e327-dded-48ab-ad84-f8b7e41c2ad4",
   "metadata": {
    "colab": {
     "base_uri": "https://localhost:8080/"
    },
    "id": "41e1e327-dded-48ab-ad84-f8b7e41c2ad4",
    "outputId": "df928194-7b78-441f-ca8d-7c1a831232f9"
   },
   "outputs": [
    {
     "data": {
      "text/plain": [
       "('/content/drive/MyDrive/Colab Notebooks/model_nlp/tokenizer_config.json',\n",
       " '/content/drive/MyDrive/Colab Notebooks/model_nlp/special_tokens_map.json',\n",
       " '/content/drive/MyDrive/Colab Notebooks/model_nlp/vocab.json',\n",
       " '/content/drive/MyDrive/Colab Notebooks/model_nlp/merges.txt',\n",
       " '/content/drive/MyDrive/Colab Notebooks/model_nlp/added_tokens.json',\n",
       " '/content/drive/MyDrive/Colab Notebooks/model_nlp/tokenizer.json')"
      ]
     },
     "execution_count": 20,
     "metadata": {},
     "output_type": "execute_result"
    }
   ],
   "source": [
    "# Step 8: Save Model & Tokenizer\n",
    "trainer.save_model(\"/content/drive/MyDrive/Colab Notebooks/model_nlp\")\n",
    "tokenizer.save_pretrained(\"/content/drive/MyDrive/Colab Notebooks/model_nlp\")"
   ]
  },
  {
   "cell_type": "code",
   "execution_count": null,
   "id": "pnIBNd5oHa5K",
   "metadata": {
    "colab": {
     "base_uri": "https://localhost:8080/",
     "height": 171,
     "referenced_widgets": [
      "1d4d3976872f43448fbd2817a91b0513",
      "4cc2a24853034fd2bd4c81eaf006e8cb",
      "0b4ddec334c94b9b84001ac5bb914f70",
      "842246b2afa04f438b2d91928b3fe7e6",
      "84cd98d9b3c14c50935028e992a6eb7c",
      "ab216f231a0646eba9dc075cd9a2a7f4",
      "a07031f88fd544d488dbcbddce5f5085",
      "819e186a18c147e5a65e5858344d345f",
      "271bcc0f06d9472b9ee08787762ab445",
      "8454473824204e4abbdb5745e68c26e9",
      "472fad5fa44d456c9c03c60d63356c8f"
     ]
    },
    "id": "pnIBNd5oHa5K",
    "outputId": "7191e17a-da54-4b82-bb14-79ea0e807bbb"
   },
   "outputs": [
    {
     "name": "stderr",
     "output_type": "stream",
     "text": [
      "/usr/local/lib/python3.11/dist-packages/huggingface_hub/utils/_auth.py:94: UserWarning: \n",
      "The secret `HF_TOKEN` does not exist in your Colab secrets.\n",
      "To authenticate with the Hugging Face Hub, create a token in your settings tab (https://huggingface.co/settings/tokens), set it as secret in your Google Colab and restart your session.\n",
      "You will be able to reuse this secret in all of your notebooks.\n",
      "Please note that authentication is recommended but still optional to access public models or datasets.\n",
      "  warnings.warn(\n",
      "Sliding Window Attention is enabled but not implemented for `sdpa`; unexpected results may be encountered.\n"
     ]
    },
    {
     "data": {
      "application/vnd.jupyter.widget-view+json": {
       "model_id": "1d4d3976872f43448fbd2817a91b0513",
       "version_major": 2,
       "version_minor": 0
      },
      "text/plain": [
       "Loading checkpoint shards:   0%|          | 0/4 [00:00<?, ?it/s]"
      ]
     },
     "metadata": {},
     "output_type": "display_data"
    }
   ],
   "source": [
    "model_path = \"/content/drive/MyDrive/Colab Notebooks/model_nlp\"\n",
    "\n",
    "tokenizer = AutoTokenizer.from_pretrained(model_path, trust_remote_code=True)\n",
    "model = AutoModelForCausalLM.from_pretrained(model_path, trust_remote_code=True).to(\"cuda\" if torch.cuda.is_available() else \"cpu\")"
   ]
  },
  {
   "cell_type": "code",
   "execution_count": null,
   "id": "S6S5W9oJ-kz4",
   "metadata": {
    "colab": {
     "base_uri": "https://localhost:8080/"
    },
    "id": "S6S5W9oJ-kz4",
    "outputId": "594468da-c6ec-4bd5-f5ba-d3612b187ba4"
   },
   "outputs": [
    {
     "name": "stdout",
     "output_type": "stream",
     "text": [
      "\n",
      "Generated Clause:\n",
      "\n",
      "THIS AGREEMENT is  entered into as of the date indicated below by and between:  [Name of Buyer], whose principal place of business is at [Address], whose attention is directed to the following information and representations, and [Name of Seller], whose principal place of business is at [Address].  WHEREAS, the parties hereto have agreed that the buyer will purchase from the seller, and the seller agrees to sell to the buyer, certain equipment;  NOW, THEREFORE, for and in consideration of the mutual covenants contained herein and other good and valuable consideration, the receipt and sufficiency of which are hereby acknowledged, the parties agree as follows:  1. Definitions. For purposes of this Agreement:  (a) “Affiliate” means any person directly or indirectly controlling, controlled by or under common control with another person, where the term “control” (including the terms “controlling,” “controlled by” and “under common control with”) means the power, whether through ownership of voting securities, by contract or otherwise, to direct or cause the direction of the management and policies of a person, directly or indirectly.  (b) “Confidential Information” means all information regarding the business, finances, assets and liabilities of the seller and/or the equipment that is furnished to the buyer prior to closing, whether or not disclosed by written documents, and including but not limited to:  (i) the existence of this transaction;  (ii) the\n"
     ]
    }
   ],
   "source": [
    "model.eval()\n",
    "prompt = \"THIS AGREEMENT is \"\n",
    "inputs = tokenizer(prompt, return_tensors=\"pt\").to(device)\n",
    "\n",
    "with torch.no_grad():\n",
    "    outputs = model.generate(\n",
    "        **inputs,\n",
    "        max_length=300,\n",
    "        temperature=0.7,\n",
    "        top_p=0.95,\n",
    "        do_sample=True\n",
    "    )\n",
    "\n",
    "generated_text = tokenizer.decode(outputs[0], skip_special_tokens=True)\n",
    "print(\"\\nGenerated Clause:\\n\")\n",
    "print(generated_text)"
   ]
  },
  {
   "cell_type": "code",
   "execution_count": null,
   "id": "-m4Pes-i_Ea4",
   "metadata": {
    "colab": {
     "base_uri": "https://localhost:8080/"
    },
    "id": "-m4Pes-i_Ea4",
    "outputId": "dc3bc479-f7a9-4481-ca0b-63275ed35442"
   },
   "outputs": [
    {
     "name": "stdout",
     "output_type": "stream",
     "text": [
      "Requirement already satisfied: bert-score in /usr/local/lib/python3.11/dist-packages (0.3.13)\n",
      "Requirement already satisfied: torch>=1.0.0 in /usr/local/lib/python3.11/dist-packages (from bert-score) (2.6.0+cu124)\n",
      "Requirement already satisfied: pandas>=1.0.1 in /usr/local/lib/python3.11/dist-packages (from bert-score) (2.2.2)\n",
      "Requirement already satisfied: transformers>=3.0.0 in /usr/local/lib/python3.11/dist-packages (from bert-score) (4.50.3)\n",
      "Requirement already satisfied: numpy in /usr/local/lib/python3.11/dist-packages (from bert-score) (2.0.2)\n",
      "Requirement already satisfied: requests in /usr/local/lib/python3.11/dist-packages (from bert-score) (2.32.3)\n",
      "Requirement already satisfied: tqdm>=4.31.1 in /usr/local/lib/python3.11/dist-packages (from bert-score) (4.67.1)\n",
      "Requirement already satisfied: matplotlib in /usr/local/lib/python3.11/dist-packages (from bert-score) (3.10.0)\n",
      "Requirement already satisfied: packaging>=20.9 in /usr/local/lib/python3.11/dist-packages (from bert-score) (24.2)\n",
      "Requirement already satisfied: python-dateutil>=2.8.2 in /usr/local/lib/python3.11/dist-packages (from pandas>=1.0.1->bert-score) (2.8.2)\n",
      "Requirement already satisfied: pytz>=2020.1 in /usr/local/lib/python3.11/dist-packages (from pandas>=1.0.1->bert-score) (2025.2)\n",
      "Requirement already satisfied: tzdata>=2022.7 in /usr/local/lib/python3.11/dist-packages (from pandas>=1.0.1->bert-score) (2025.2)\n",
      "Requirement already satisfied: filelock in /usr/local/lib/python3.11/dist-packages (from torch>=1.0.0->bert-score) (3.18.0)\n",
      "Requirement already satisfied: typing-extensions>=4.10.0 in /usr/local/lib/python3.11/dist-packages (from torch>=1.0.0->bert-score) (4.13.1)\n",
      "Requirement already satisfied: networkx in /usr/local/lib/python3.11/dist-packages (from torch>=1.0.0->bert-score) (3.4.2)\n",
      "Requirement already satisfied: jinja2 in /usr/local/lib/python3.11/dist-packages (from torch>=1.0.0->bert-score) (3.1.6)\n",
      "Requirement already satisfied: fsspec in /usr/local/lib/python3.11/dist-packages (from torch>=1.0.0->bert-score) (2025.3.2)\n",
      "Requirement already satisfied: nvidia-cuda-nvrtc-cu12==12.4.127 in /usr/local/lib/python3.11/dist-packages (from torch>=1.0.0->bert-score) (12.4.127)\n",
      "Requirement already satisfied: nvidia-cuda-runtime-cu12==12.4.127 in /usr/local/lib/python3.11/dist-packages (from torch>=1.0.0->bert-score) (12.4.127)\n",
      "Requirement already satisfied: nvidia-cuda-cupti-cu12==12.4.127 in /usr/local/lib/python3.11/dist-packages (from torch>=1.0.0->bert-score) (12.4.127)\n",
      "Requirement already satisfied: nvidia-cudnn-cu12==9.1.0.70 in /usr/local/lib/python3.11/dist-packages (from torch>=1.0.0->bert-score) (9.1.0.70)\n",
      "Requirement already satisfied: nvidia-cublas-cu12==12.4.5.8 in /usr/local/lib/python3.11/dist-packages (from torch>=1.0.0->bert-score) (12.4.5.8)\n",
      "Requirement already satisfied: nvidia-cufft-cu12==11.2.1.3 in /usr/local/lib/python3.11/dist-packages (from torch>=1.0.0->bert-score) (11.2.1.3)\n",
      "Requirement already satisfied: nvidia-curand-cu12==10.3.5.147 in /usr/local/lib/python3.11/dist-packages (from torch>=1.0.0->bert-score) (10.3.5.147)\n",
      "Requirement already satisfied: nvidia-cusolver-cu12==11.6.1.9 in /usr/local/lib/python3.11/dist-packages (from torch>=1.0.0->bert-score) (11.6.1.9)\n",
      "Requirement already satisfied: nvidia-cusparse-cu12==12.3.1.170 in /usr/local/lib/python3.11/dist-packages (from torch>=1.0.0->bert-score) (12.3.1.170)\n",
      "Requirement already satisfied: nvidia-cusparselt-cu12==0.6.2 in /usr/local/lib/python3.11/dist-packages (from torch>=1.0.0->bert-score) (0.6.2)\n",
      "Requirement already satisfied: nvidia-nccl-cu12==2.21.5 in /usr/local/lib/python3.11/dist-packages (from torch>=1.0.0->bert-score) (2.21.5)\n",
      "Requirement already satisfied: nvidia-nvtx-cu12==12.4.127 in /usr/local/lib/python3.11/dist-packages (from torch>=1.0.0->bert-score) (12.4.127)\n",
      "Requirement already satisfied: nvidia-nvjitlink-cu12==12.4.127 in /usr/local/lib/python3.11/dist-packages (from torch>=1.0.0->bert-score) (12.4.127)\n",
      "Requirement already satisfied: triton==3.2.0 in /usr/local/lib/python3.11/dist-packages (from torch>=1.0.0->bert-score) (3.2.0)\n",
      "Requirement already satisfied: sympy==1.13.1 in /usr/local/lib/python3.11/dist-packages (from torch>=1.0.0->bert-score) (1.13.1)\n",
      "Requirement already satisfied: mpmath<1.4,>=1.1.0 in /usr/local/lib/python3.11/dist-packages (from sympy==1.13.1->torch>=1.0.0->bert-score) (1.3.0)\n",
      "Requirement already satisfied: huggingface-hub<1.0,>=0.26.0 in /usr/local/lib/python3.11/dist-packages (from transformers>=3.0.0->bert-score) (0.30.1)\n",
      "Requirement already satisfied: pyyaml>=5.1 in /usr/local/lib/python3.11/dist-packages (from transformers>=3.0.0->bert-score) (6.0.2)\n",
      "Requirement already satisfied: regex!=2019.12.17 in /usr/local/lib/python3.11/dist-packages (from transformers>=3.0.0->bert-score) (2024.11.6)\n",
      "Requirement already satisfied: tokenizers<0.22,>=0.21 in /usr/local/lib/python3.11/dist-packages (from transformers>=3.0.0->bert-score) (0.21.1)\n",
      "Requirement already satisfied: safetensors>=0.4.3 in /usr/local/lib/python3.11/dist-packages (from transformers>=3.0.0->bert-score) (0.5.3)\n",
      "Requirement already satisfied: contourpy>=1.0.1 in /usr/local/lib/python3.11/dist-packages (from matplotlib->bert-score) (1.3.1)\n",
      "Requirement already satisfied: cycler>=0.10 in /usr/local/lib/python3.11/dist-packages (from matplotlib->bert-score) (0.12.1)\n",
      "Requirement already satisfied: fonttools>=4.22.0 in /usr/local/lib/python3.11/dist-packages (from matplotlib->bert-score) (4.57.0)\n",
      "Requirement already satisfied: kiwisolver>=1.3.1 in /usr/local/lib/python3.11/dist-packages (from matplotlib->bert-score) (1.4.8)\n",
      "Requirement already satisfied: pillow>=8 in /usr/local/lib/python3.11/dist-packages (from matplotlib->bert-score) (11.1.0)\n",
      "Requirement already satisfied: pyparsing>=2.3.1 in /usr/local/lib/python3.11/dist-packages (from matplotlib->bert-score) (3.2.3)\n",
      "Requirement already satisfied: charset-normalizer<4,>=2 in /usr/local/lib/python3.11/dist-packages (from requests->bert-score) (3.4.1)\n",
      "Requirement already satisfied: idna<4,>=2.5 in /usr/local/lib/python3.11/dist-packages (from requests->bert-score) (3.10)\n",
      "Requirement already satisfied: urllib3<3,>=1.21.1 in /usr/local/lib/python3.11/dist-packages (from requests->bert-score) (2.3.0)\n",
      "Requirement already satisfied: certifi>=2017.4.17 in /usr/local/lib/python3.11/dist-packages (from requests->bert-score) (2025.1.31)\n",
      "Requirement already satisfied: six>=1.5 in /usr/local/lib/python3.11/dist-packages (from python-dateutil>=2.8.2->pandas>=1.0.1->bert-score) (1.17.0)\n",
      "Requirement already satisfied: MarkupSafe>=2.0 in /usr/local/lib/python3.11/dist-packages (from jinja2->torch>=1.0.0->bert-score) (3.0.2)\n"
     ]
    }
   ],
   "source": [
    "!pip install bert-score"
   ]
  },
  {
   "cell_type": "code",
   "execution_count": null,
   "id": "PoLWdsiE-lgD",
   "metadata": {
    "colab": {
     "base_uri": "https://localhost:8080/",
     "height": 519,
     "referenced_widgets": [
      "edfa93fe454b424789ee4ce336a6236a",
      "60549428497844219530954142fbd60b",
      "211b328e588e46f182e3352b1c31f0c9",
      "dfbdaabda35a478abf291881b4299c15",
      "f889f014f9dc43c6a25ace650c02fb7e",
      "9204eedc2dde4acb93d585ac83c6da9d",
      "9f6c9c0ae33844f79f0383daaa467d17",
      "9ab440f5e62d45bdbe35919bb6a2e045",
      "fda60fe770434458bb377a40eb2e21e2",
      "a0f1b60a58234147b1045ac86d19d75d",
      "2f5b64d4feb740d29966d7d859393b85",
      "6be859c2b38a4745a73dd9fe6cf5516c",
      "c6cc449f3265437fa4038a066429b53e",
      "11b3f4227e7742feb8127b10a7b3ba0c",
      "f0b631e3573340189af57d9704b87afc",
      "92510593bc024392844996d9dd2eb289",
      "49ba34f5c464469291efe4a3b568c712",
      "841514f70c4b426e9acacd9a94130058",
      "06630eb6b0ff4b8a9c41294d1a53200a",
      "54328480d4954991bf37f2120dbbe3ea",
      "6c9e58f8e8c24a7cb7c5ca6f309e3b6f",
      "c96bcb2edee5423d820faf1ba2d81ad0",
      "7a142daa577e4519b619593d5a09981d",
      "e59ef26aed2b4332898441739804ce75",
      "765dd1cb40524596b6badba89b4fd67c",
      "44ebcc07cd0f4bf5a2169f0af1a9b75a",
      "e61501e47ed24543b4db701500431494",
      "227e898b15a548e89b1de755d2f16aee",
      "0b6517cf03ab49dbb453e8802cdfb7c4",
      "0020bf92d64c4d0e92e1950290778610",
      "1bc5f8cbe56a45dd96a59dbd1056023e",
      "3078863c5e8146a7a07740ad05906f71",
      "de55e7354cf64bb5addc4573a01b055a",
      "aaedb6dd5cd14939bc5c5cc9ee7f8014",
      "18133ae676cb4d7a91e71907da07f4a0",
      "cb29d19639e0451a9694be524d25dbdd",
      "bfd38e4373c244099920fc67a4137b09",
      "042aef62a6a3482d867e1764af4901eb",
      "20a426a1157a43e39845db27fee27d1b",
      "b3ad3a1a2c9a4528b90fc9d943069719",
      "417fa28f2355453d9d2beea7a42e2fa2",
      "30f86fe2a3a5428faa2ba3b2dc7de3e8",
      "f06a77b934e24b6091dac4f3862af831",
      "f0ceaa8f522a4827975cb31b9ec5d495",
      "d7418084e14442e4978ffa7530a9bc3b",
      "8595dea29ea8474aa9250852f165a825",
      "a02675cfff4f41ccb97a5c3113a2d455",
      "1234c06a64a94350a076b852ca17be91",
      "4868fc268b344cc2b8733bbc3ade3dfd",
      "5bb4f69fe60b4b628d3b21ccd9a609a0",
      "f571c2a70c694ab0b2836bedadeb01d0",
      "7ed879aa459c4da6a272b950895539a8",
      "04da39a1385b4909b977dc4470b3d15e",
      "8fcf439e90744057b74b265c3e932ffd",
      "a7eda506ce5841dd930887cf4aafb614",
      "75cc627e5bdd4ffe8b11df151f5dd91d",
      "645be72e2d6c4e7382ca4b71e30ecfa7",
      "10d39a79d6ed451991a8cc8cf5618a65",
      "c96ea3482bef466cbbabcf58a30e709f",
      "eb2dab2e1fcb4d5aa8d9d71e0c18ab9f",
      "a6a72e15cbc8460ba39c675067315517",
      "2631518a7b4241f6832a25b92d4cb724",
      "3f9b7cc34e2944259e48b722f876235f",
      "a2e19d03c5b14424ad2f49e02f3bc2fd",
      "14630eb6b4fe4686bef94986a928d80f",
      "e69d600c7f6c43b388a955a9352a9f36",
      "9ea148ac77404a9dbed19a7d90970791",
      "f4e5000046674f89994fef94eb000ffa",
      "df49424ef4d44a6daa734095a1d643d4",
      "ebf008bea76b45f796b1c9df8437f1cf",
      "b965790a1b1746bfb6a327accc4468df",
      "d1717d486f9e4377a608b75a137fb2a7",
      "9fa8ec16b2f145cfbafa052685f75de6",
      "5e4afeb6522b4a038e396025661d4c99",
      "7d93d9c516ee4f1eb51e43eea5cdf5d8",
      "3373f401da9b4d9ca8b1fd35dee26621",
      "cbccbe35a14347039fef309cf131f3b1",
      "b5ecf3027a4a4b228717598b2bea4572",
      "7a7980b18e0743868258f982c68c5178",
      "67b2f83906a342c9b8171a6b25a6b5e8",
      "eef4eb14e8d34ce7a14ba31f0c496d0a",
      "b58ed3a53289475d9331751cf492675d",
      "df99c289cac64687bc3afab921a90ed7",
      "a6cd89f3523f44dbb11cdd15b2d485f3",
      "327bc6740432479ba85f0895a5c359f6",
      "a3d12d2ca85a47d5a812f8d67464ea10",
      "eef636fcef0c4681b7220e6c2f77f6af",
      "9831471048ce4a6f821f6153fda2cb6b"
     ]
    },
    "id": "PoLWdsiE-lgD",
    "outputId": "4f741859-8081-44fd-f307-d5e8960c3c7c"
   },
   "outputs": [
    {
     "data": {
      "application/vnd.jupyter.widget-view+json": {
       "model_id": "edfa93fe454b424789ee4ce336a6236a",
       "version_major": 2,
       "version_minor": 0
      },
      "text/plain": [
       "tokenizer_config.json:   0%|          | 0.00/25.0 [00:00<?, ?B/s]"
      ]
     },
     "metadata": {},
     "output_type": "display_data"
    },
    {
     "data": {
      "application/vnd.jupyter.widget-view+json": {
       "model_id": "6be859c2b38a4745a73dd9fe6cf5516c",
       "version_major": 2,
       "version_minor": 0
      },
      "text/plain": [
       "config.json:   0%|          | 0.00/482 [00:00<?, ?B/s]"
      ]
     },
     "metadata": {},
     "output_type": "display_data"
    },
    {
     "data": {
      "application/vnd.jupyter.widget-view+json": {
       "model_id": "7a142daa577e4519b619593d5a09981d",
       "version_major": 2,
       "version_minor": 0
      },
      "text/plain": [
       "vocab.json:   0%|          | 0.00/899k [00:00<?, ?B/s]"
      ]
     },
     "metadata": {},
     "output_type": "display_data"
    },
    {
     "data": {
      "application/vnd.jupyter.widget-view+json": {
       "model_id": "aaedb6dd5cd14939bc5c5cc9ee7f8014",
       "version_major": 2,
       "version_minor": 0
      },
      "text/plain": [
       "merges.txt:   0%|          | 0.00/456k [00:00<?, ?B/s]"
      ]
     },
     "metadata": {},
     "output_type": "display_data"
    },
    {
     "data": {
      "application/vnd.jupyter.widget-view+json": {
       "model_id": "d7418084e14442e4978ffa7530a9bc3b",
       "version_major": 2,
       "version_minor": 0
      },
      "text/plain": [
       "tokenizer.json:   0%|          | 0.00/1.36M [00:00<?, ?B/s]"
      ]
     },
     "metadata": {},
     "output_type": "display_data"
    },
    {
     "name": "stderr",
     "output_type": "stream",
     "text": [
      "Xet Storage is enabled for this repo, but the 'hf_xet' package is not installed. Falling back to regular HTTP download. For better performance, install the package with: `pip install huggingface_hub[hf_xet]` or `pip install hf_xet`\n",
      "WARNING:huggingface_hub.file_download:Xet Storage is enabled for this repo, but the 'hf_xet' package is not installed. Falling back to regular HTTP download. For better performance, install the package with: `pip install huggingface_hub[hf_xet]` or `pip install hf_xet`\n"
     ]
    },
    {
     "data": {
      "application/vnd.jupyter.widget-view+json": {
       "model_id": "75cc627e5bdd4ffe8b11df151f5dd91d",
       "version_major": 2,
       "version_minor": 0
      },
      "text/plain": [
       "model.safetensors:   0%|          | 0.00/1.42G [00:00<?, ?B/s]"
      ]
     },
     "metadata": {},
     "output_type": "display_data"
    },
    {
     "name": "stderr",
     "output_type": "stream",
     "text": [
      "Some weights of RobertaModel were not initialized from the model checkpoint at roberta-large and are newly initialized: ['pooler.dense.bias', 'pooler.dense.weight']\n",
      "You should probably TRAIN this model on a down-stream task to be able to use it for predictions and inference.\n"
     ]
    },
    {
     "name": "stdout",
     "output_type": "stream",
     "text": [
      "calculating scores...\n",
      "computing bert embedding.\n"
     ]
    },
    {
     "data": {
      "application/vnd.jupyter.widget-view+json": {
       "model_id": "9ea148ac77404a9dbed19a7d90970791",
       "version_major": 2,
       "version_minor": 0
      },
      "text/plain": [
       "  0%|          | 0/1 [00:00<?, ?it/s]"
      ]
     },
     "metadata": {},
     "output_type": "display_data"
    },
    {
     "name": "stdout",
     "output_type": "stream",
     "text": [
      "computing greedy matching.\n"
     ]
    },
    {
     "data": {
      "application/vnd.jupyter.widget-view+json": {
       "model_id": "b5ecf3027a4a4b228717598b2bea4572",
       "version_major": 2,
       "version_minor": 0
      },
      "text/plain": [
       "  0%|          | 0/1 [00:00<?, ?it/s]"
      ]
     },
     "metadata": {},
     "output_type": "display_data"
    },
    {
     "name": "stdout",
     "output_type": "stream",
     "text": [
      "done in 0.21 seconds, 4.73 sentences/sec\n",
      "\n",
      "🔍 BERTScore:\n",
      "Precision: 0.8175\n",
      "Recall: 0.7948\n",
      "F1 Score: 0.8060\n"
     ]
    }
   ],
   "source": [
    "import json\n",
    "from bert_score import score\n",
    "reference_path = \"/content/drive/MyDrive/Colab Notebooks/datasets/dev.json\"\n",
    "def load_data(file_path):\n",
    "    with open(file_path, 'r', encoding='utf-8') as f:\n",
    "        return json.load(f)\n",
    "\n",
    "def extract_text(data, key='documents'):\n",
    "    return [entry.get('text', '') for entry in data.get(key, [])]\n",
    "\n",
    "reference_data = load_data(reference_path)\n",
    "reference_texts = extract_text(reference_data)\n",
    "\n",
    "candidates = [generated_text]\n",
    "references = [reference_texts[0]]  # you can select based on length or index\n",
    "\n",
    "P, R, F1 = score(candidates, references, lang=\"en\", verbose=True)\n",
    "\n",
    "print(\"\\n🔍 BERTScore:\")\n",
    "print(f\"Precision: {P.mean().item():.4f}\")\n",
    "print(f\"Recall: {R.mean().item():.4f}\")\n",
    "print(f\"F1 Score: {F1.mean().item():.4f}\")"
   ]
  }
 ],
 "metadata": {
  "colab": {
   "machine_shape": "hm",
   "provenance": []
  },
  "kernelspec": {
   "display_name": "Python 3",
   "name": "python3"
  },
  "language_info": {
   "codemirror_mode": {
    "name": "ipython",
    "version": 3
   },
   "file_extension": ".py",
   "mimetype": "text/x-python",
   "name": "python",
   "nbconvert_exporter": "python",
   "pygments_lexer": "ipython3",
   "version": "3.12.6"
  }
 },
 "nbformat": 4,
 "nbformat_minor": 5
}
