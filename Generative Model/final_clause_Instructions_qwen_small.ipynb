{
 "cells": [
  {
   "cell_type": "code",
   "execution_count": null,
   "id": "7e2a91b1-cd24-4f6c-a1ad-a4cd824478ed",
   "metadata": {
    "id": "7e2a91b1-cd24-4f6c-a1ad-a4cd824478ed"
   },
   "outputs": [],
   "source": [
    "!pip install transformers peft accelerate datasets sentencepiece --quiet"
   ]
  },
  {
   "cell_type": "code",
   "execution_count": null,
   "id": "E32IYLDu2xFE",
   "metadata": {
    "colab": {
     "base_uri": "https://localhost:8080/"
    },
    "id": "E32IYLDu2xFE",
    "outputId": "03111b14-47c3-4aed-b0a1-903af4adc99e"
   },
   "outputs": [
    {
     "name": "stdout",
     "output_type": "stream",
     "text": [
      "Drive already mounted at /content/drive; to attempt to forcibly remount, call drive.mount(\"/content/drive\", force_remount=True).\n"
     ]
    }
   ],
   "source": [
    "# mount drive\n",
    "from google.colab import drive\n",
    "drive.mount('/content/drive')\n",
    "\n",
    "# import os\n",
    "# os.chdir('/content/drive/My Drive/_NLP/_NLP_Project/ModelTraining')"
   ]
  },
  {
   "cell_type": "markdown",
   "id": "EFpUkxeeZusx",
   "metadata": {
    "id": "EFpUkxeeZusx"
   },
   "source": [
    "## Qwen"
   ]
  },
  {
   "cell_type": "code",
   "execution_count": null,
   "id": "DsBdi6qWmn8L",
   "metadata": {
    "id": "DsBdi6qWmn8L"
   },
   "outputs": [],
   "source": [
    "# --- Imports ---\n",
    "import torch\n",
    "from datasets import load_dataset\n",
    "from transformers import AutoTokenizer, AutoModelForCausalLM, Trainer, TrainingArguments, DataCollatorForLanguageModeling\n",
    "from peft import LoraConfig, get_peft_model, prepare_model_for_kbit_training"
   ]
  },
  {
   "cell_type": "code",
   "execution_count": null,
   "id": "qXxBU0xZ5rn-",
   "metadata": {
    "colab": {
     "base_uri": "https://localhost:8080/"
    },
    "id": "qXxBU0xZ5rn-",
    "outputId": "4a196da6-4285-458c-bf3b-befe0a7bb3c3"
   },
   "outputs": [
    {
     "name": "stderr",
     "output_type": "stream",
     "text": [
      "/usr/local/lib/python3.11/dist-packages/huggingface_hub/utils/_auth.py:94: UserWarning: \n",
      "The secret `HF_TOKEN` does not exist in your Colab secrets.\n",
      "To authenticate with the Hugging Face Hub, create a token in your settings tab (https://huggingface.co/settings/tokens), set it as secret in your Google Colab and restart your session.\n",
      "You will be able to reuse this secret in all of your notebooks.\n",
      "Please note that authentication is recommended but still optional to access public models or datasets.\n",
      "  warnings.warn(\n",
      "Sliding Window Attention is enabled but not implemented for `sdpa`; unexpected results may be encountered.\n"
     ]
    }
   ],
   "source": [
    "# --- Load Pretrained Qwen1.5 Model ---\n",
    "model_name = \"Qwen/Qwen1.5-0.5B-Chat\"\n",
    "\n",
    "tokenizer = AutoTokenizer.from_pretrained(model_name, trust_remote_code=True)\n",
    "model = AutoModelForCausalLM.from_pretrained(\n",
    "    model_name,\n",
    "    torch_dtype=torch.bfloat16,   # <<< Load in bf16 for training\n",
    "    device_map=\"auto\",            # Auto load on GPU\n",
    "    trust_remote_code=True\n",
    ")\n"
   ]
  },
  {
   "cell_type": "code",
   "execution_count": null,
   "id": "bvczTez75s23",
   "metadata": {
    "id": "bvczTez75s23"
   },
   "outputs": [],
   "source": [
    "# # --- Apply LoRA ---\n",
    "lora_config = LoraConfig(\n",
    "    r=16,\n",
    "    lora_alpha=32,\n",
    "    target_modules=[\"q_proj\", \"v_proj\"],\n",
    "    lora_dropout=0.05,\n",
    "    bias=\"none\",\n",
    "    task_type=\"CAUSAL_LM\",\n",
    ")\n",
    "\n",
    "\n",
    "model = get_peft_model(model, lora_config)"
   ]
  },
  {
   "cell_type": "code",
   "execution_count": null,
   "id": "oxO4zfCA50Pi",
   "metadata": {
    "id": "oxO4zfCA50Pi"
   },
   "outputs": [],
   "source": [
    "# --- Load Dataset ---\n",
    "dataset = load_dataset(\"NebulaSense/Legal_Clause_Instructions\")"
   ]
  },
  {
   "cell_type": "code",
   "execution_count": null,
   "id": "hmHlnaBw6Klj",
   "metadata": {
    "id": "hmHlnaBw6Klj"
   },
   "outputs": [],
   "source": [
    "# --- Preprocessing Functions ---\n",
    "max_seq_length = 1024\n",
    "\n",
    "def get_instruction_prompt(instruction_type, instruction, input_text=None):\n",
    "    base_prompt = (\n",
    "        \"### Instruction:\\n\"\n",
    "        \"You are drafting or modifying a contract clause based on the following requirements:\\n\"\n",
    "        \"- Write in formal legal English.\\n\"\n",
    "        \"- Do not include headings or titles.\\n\"\n",
    "        \"- Use bullet points if necessary.\\n\"\n",
    "        \"- Focus on confidentiality, data, privacy, termination, payment, or non-compete terms.\\n\"\n",
    "        \"- Avoid repeating the same point twice.\\n\"\n",
    "        \"- END the clause formally and completely\\n\"\n",
    "    )\n",
    "    if instruction_type == \"generation\":\n",
    "        return f\"{base_prompt}Task: Generate a new contract clause.\\nInput: {instruction}\\n### Response:\"\n",
    "    elif instruction_type == \"modification\":\n",
    "        return f\"{base_prompt}Task: Modify the provided contract clause.\\nInput Instruction: {instruction}\\nClause to Modify: {input_text}\\n### Response:\"\n",
    "    else:\n",
    "        raise ValueError(f\"Unknown instruction_type: {instruction_type}\")"
   ]
  },
  {
   "cell_type": "code",
   "execution_count": null,
   "id": "nAdwQa-I6R0E",
   "metadata": {
    "id": "nAdwQa-I6R0E"
   },
   "outputs": [],
   "source": [
    "def preprocess_function(examples):\n",
    "    valid_indices = [\n",
    "        i for i, instr_type in enumerate(examples[\"Instruction_Type\"])\n",
    "        if instr_type in [\"generation\", \"modification\"]\n",
    "    ]\n",
    "\n",
    "    filtered_examples = {\n",
    "        key: [value[i] for i in valid_indices]\n",
    "        for key, value in examples.items()\n",
    "    }\n",
    "\n",
    "    inputs = [\n",
    "        get_instruction_prompt(instr_type, instr, input_text)\n",
    "        for instr_type, instr, input_text in zip(\n",
    "            filtered_examples[\"Instruction_Type\"],\n",
    "            filtered_examples[\"Instruction\"],\n",
    "            filtered_examples.get(\"Input\", [None] * len(filtered_examples[\"Instruction\"])),\n",
    "        )\n",
    "    ]\n",
    "    targets = filtered_examples[\"Output\"]\n",
    "\n",
    "    valid_inputs_and_targets = [(inp, tgt) for inp, tgt in zip(inputs, targets) if inp and tgt]\n",
    "    inputs, targets = zip(*valid_inputs_and_targets) if valid_inputs_and_targets else ([], [])\n",
    "\n",
    "    if not inputs:\n",
    "        return {}\n",
    "\n",
    "    # For Causal LM: input = prompt + expected output\n",
    "    full_texts = [\n",
    "        inp + \"\\n\" + tgt\n",
    "        for inp, tgt in zip(inputs, targets)\n",
    "    ]\n",
    "\n",
    "    model_inputs = tokenizer(\n",
    "        list(full_texts),\n",
    "        max_length=max_seq_length,\n",
    "        padding=\"max_length\",\n",
    "        truncation=True,\n",
    "        return_tensors=\"pt\"\n",
    "    )\n",
    "\n",
    "    return {\n",
    "        \"input_ids\": model_inputs[\"input_ids\"],\n",
    "        \"attention_mask\": model_inputs[\"attention_mask\"],\n",
    "        \"labels\": model_inputs[\"input_ids\"].clone(),\n",
    "    }\n"
   ]
  },
  {
   "cell_type": "code",
   "execution_count": null,
   "id": "UDdyBFyH6UOZ",
   "metadata": {
    "colab": {
     "base_uri": "https://localhost:8080/",
     "height": 49,
     "referenced_widgets": [
      "d76611ea2c6948b8a3c42930f78e3b9a",
      "28124a8676ea4bc98513bc9926faec93",
      "c97d480c5f1d4fe5934589770b6031b7",
      "57b673dc41924db8943c25afbcf96f2c",
      "84cc352f798c4c8280a14a708ffc7081",
      "4883199b7d3246cbbccb36568c88d316",
      "13609511329a49a7b9e875d3f06e57ff",
      "1caa1c9b8e344da382029ad12de6bbc7",
      "8d3e3764a9f04e82b169312e5d058df9",
      "822e022e4ca34a9397c333c6a23ad7c0",
      "b5b2e5ab7b5e467cad2c93172ac0b344"
     ]
    },
    "id": "UDdyBFyH6UOZ",
    "outputId": "0695f2bb-7cb8-4cab-f5f9-8157103196d7"
   },
   "outputs": [
    {
     "data": {
      "application/vnd.jupyter.widget-view+json": {
       "model_id": "d76611ea2c6948b8a3c42930f78e3b9a",
       "version_major": 2,
       "version_minor": 0
      },
      "text/plain": [
       "Map:   0%|          | 0/4557 [00:00<?, ? examples/s]"
      ]
     },
     "metadata": {},
     "output_type": "display_data"
    }
   ],
   "source": [
    "# --- Tokenize Dataset ---\n",
    "tokenized_dataset = dataset[\"train\"].map(\n",
    "    preprocess_function,\n",
    "    batched=True,\n",
    "    remove_columns=[\"Instruction_Type\", \"Instruction\", \"Input\", \"Output\"],\n",
    "    num_proc=1,  # Safe on Mac/Remote code models\n",
    "    load_from_cache_file=False\n",
    ")\n"
   ]
  },
  {
   "cell_type": "code",
   "execution_count": null,
   "id": "KfPwcJjcQpub",
   "metadata": {
    "colab": {
     "base_uri": "https://localhost:8080/"
    },
    "id": "KfPwcJjcQpub",
    "outputId": "53ea5c81-747b-48c0-f4d4-94d150d28a58"
   },
   "outputs": [
    {
     "name": "stdout",
     "output_type": "stream",
     "text": [
      "Requirement already satisfied: bert_score in /usr/local/lib/python3.11/dist-packages (0.3.13)\n",
      "Requirement already satisfied: torch>=1.0.0 in /usr/local/lib/python3.11/dist-packages (from bert_score) (2.6.0+cu124)\n",
      "Requirement already satisfied: pandas>=1.0.1 in /usr/local/lib/python3.11/dist-packages (from bert_score) (2.2.2)\n",
      "Requirement already satisfied: transformers>=3.0.0 in /usr/local/lib/python3.11/dist-packages (from bert_score) (4.51.3)\n",
      "Requirement already satisfied: numpy in /usr/local/lib/python3.11/dist-packages (from bert_score) (2.0.2)\n",
      "Requirement already satisfied: requests in /usr/local/lib/python3.11/dist-packages (from bert_score) (2.32.3)\n",
      "Requirement already satisfied: tqdm>=4.31.1 in /usr/local/lib/python3.11/dist-packages (from bert_score) (4.67.1)\n",
      "Requirement already satisfied: matplotlib in /usr/local/lib/python3.11/dist-packages (from bert_score) (3.10.0)\n",
      "Requirement already satisfied: packaging>=20.9 in /usr/local/lib/python3.11/dist-packages (from bert_score) (24.2)\n",
      "Requirement already satisfied: python-dateutil>=2.8.2 in /usr/local/lib/python3.11/dist-packages (from pandas>=1.0.1->bert_score) (2.8.2)\n",
      "Requirement already satisfied: pytz>=2020.1 in /usr/local/lib/python3.11/dist-packages (from pandas>=1.0.1->bert_score) (2025.2)\n",
      "Requirement already satisfied: tzdata>=2022.7 in /usr/local/lib/python3.11/dist-packages (from pandas>=1.0.1->bert_score) (2025.2)\n",
      "Requirement already satisfied: filelock in /usr/local/lib/python3.11/dist-packages (from torch>=1.0.0->bert_score) (3.18.0)\n",
      "Requirement already satisfied: typing-extensions>=4.10.0 in /usr/local/lib/python3.11/dist-packages (from torch>=1.0.0->bert_score) (4.13.2)\n",
      "Requirement already satisfied: networkx in /usr/local/lib/python3.11/dist-packages (from torch>=1.0.0->bert_score) (3.4.2)\n",
      "Requirement already satisfied: jinja2 in /usr/local/lib/python3.11/dist-packages (from torch>=1.0.0->bert_score) (3.1.6)\n",
      "Requirement already satisfied: fsspec in /usr/local/lib/python3.11/dist-packages (from torch>=1.0.0->bert_score) (2024.12.0)\n",
      "Requirement already satisfied: nvidia-cuda-nvrtc-cu12==12.4.127 in /usr/local/lib/python3.11/dist-packages (from torch>=1.0.0->bert_score) (12.4.127)\n",
      "Requirement already satisfied: nvidia-cuda-runtime-cu12==12.4.127 in /usr/local/lib/python3.11/dist-packages (from torch>=1.0.0->bert_score) (12.4.127)\n",
      "Requirement already satisfied: nvidia-cuda-cupti-cu12==12.4.127 in /usr/local/lib/python3.11/dist-packages (from torch>=1.0.0->bert_score) (12.4.127)\n",
      "Requirement already satisfied: nvidia-cudnn-cu12==9.1.0.70 in /usr/local/lib/python3.11/dist-packages (from torch>=1.0.0->bert_score) (9.1.0.70)\n",
      "Requirement already satisfied: nvidia-cublas-cu12==12.4.5.8 in /usr/local/lib/python3.11/dist-packages (from torch>=1.0.0->bert_score) (12.4.5.8)\n",
      "Requirement already satisfied: nvidia-cufft-cu12==11.2.1.3 in /usr/local/lib/python3.11/dist-packages (from torch>=1.0.0->bert_score) (11.2.1.3)\n",
      "Requirement already satisfied: nvidia-curand-cu12==10.3.5.147 in /usr/local/lib/python3.11/dist-packages (from torch>=1.0.0->bert_score) (10.3.5.147)\n",
      "Requirement already satisfied: nvidia-cusolver-cu12==11.6.1.9 in /usr/local/lib/python3.11/dist-packages (from torch>=1.0.0->bert_score) (11.6.1.9)\n",
      "Requirement already satisfied: nvidia-cusparse-cu12==12.3.1.170 in /usr/local/lib/python3.11/dist-packages (from torch>=1.0.0->bert_score) (12.3.1.170)\n",
      "Requirement already satisfied: nvidia-cusparselt-cu12==0.6.2 in /usr/local/lib/python3.11/dist-packages (from torch>=1.0.0->bert_score) (0.6.2)\n",
      "Requirement already satisfied: nvidia-nccl-cu12==2.21.5 in /usr/local/lib/python3.11/dist-packages (from torch>=1.0.0->bert_score) (2.21.5)\n",
      "Requirement already satisfied: nvidia-nvtx-cu12==12.4.127 in /usr/local/lib/python3.11/dist-packages (from torch>=1.0.0->bert_score) (12.4.127)\n",
      "Requirement already satisfied: nvidia-nvjitlink-cu12==12.4.127 in /usr/local/lib/python3.11/dist-packages (from torch>=1.0.0->bert_score) (12.4.127)\n",
      "Requirement already satisfied: triton==3.2.0 in /usr/local/lib/python3.11/dist-packages (from torch>=1.0.0->bert_score) (3.2.0)\n",
      "Requirement already satisfied: sympy==1.13.1 in /usr/local/lib/python3.11/dist-packages (from torch>=1.0.0->bert_score) (1.13.1)\n",
      "Requirement already satisfied: mpmath<1.4,>=1.1.0 in /usr/local/lib/python3.11/dist-packages (from sympy==1.13.1->torch>=1.0.0->bert_score) (1.3.0)\n",
      "Requirement already satisfied: huggingface-hub<1.0,>=0.30.0 in /usr/local/lib/python3.11/dist-packages (from transformers>=3.0.0->bert_score) (0.30.2)\n",
      "Requirement already satisfied: pyyaml>=5.1 in /usr/local/lib/python3.11/dist-packages (from transformers>=3.0.0->bert_score) (6.0.2)\n",
      "Requirement already satisfied: regex!=2019.12.17 in /usr/local/lib/python3.11/dist-packages (from transformers>=3.0.0->bert_score) (2024.11.6)\n",
      "Requirement already satisfied: tokenizers<0.22,>=0.21 in /usr/local/lib/python3.11/dist-packages (from transformers>=3.0.0->bert_score) (0.21.1)\n",
      "Requirement already satisfied: safetensors>=0.4.3 in /usr/local/lib/python3.11/dist-packages (from transformers>=3.0.0->bert_score) (0.5.3)\n",
      "Requirement already satisfied: contourpy>=1.0.1 in /usr/local/lib/python3.11/dist-packages (from matplotlib->bert_score) (1.3.2)\n",
      "Requirement already satisfied: cycler>=0.10 in /usr/local/lib/python3.11/dist-packages (from matplotlib->bert_score) (0.12.1)\n",
      "Requirement already satisfied: fonttools>=4.22.0 in /usr/local/lib/python3.11/dist-packages (from matplotlib->bert_score) (4.57.0)\n",
      "Requirement already satisfied: kiwisolver>=1.3.1 in /usr/local/lib/python3.11/dist-packages (from matplotlib->bert_score) (1.4.8)\n",
      "Requirement already satisfied: pillow>=8 in /usr/local/lib/python3.11/dist-packages (from matplotlib->bert_score) (11.1.0)\n",
      "Requirement already satisfied: pyparsing>=2.3.1 in /usr/local/lib/python3.11/dist-packages (from matplotlib->bert_score) (3.2.3)\n",
      "Requirement already satisfied: charset-normalizer<4,>=2 in /usr/local/lib/python3.11/dist-packages (from requests->bert_score) (3.4.1)\n",
      "Requirement already satisfied: idna<4,>=2.5 in /usr/local/lib/python3.11/dist-packages (from requests->bert_score) (3.10)\n",
      "Requirement already satisfied: urllib3<3,>=1.21.1 in /usr/local/lib/python3.11/dist-packages (from requests->bert_score) (2.3.0)\n",
      "Requirement already satisfied: certifi>=2017.4.17 in /usr/local/lib/python3.11/dist-packages (from requests->bert_score) (2025.1.31)\n",
      "Requirement already satisfied: six>=1.5 in /usr/local/lib/python3.11/dist-packages (from python-dateutil>=2.8.2->pandas>=1.0.1->bert_score) (1.17.0)\n",
      "Requirement already satisfied: MarkupSafe>=2.0 in /usr/local/lib/python3.11/dist-packages (from jinja2->torch>=1.0.0->bert_score) (3.0.2)\n"
     ]
    }
   ],
   "source": [
    "!pip install bert_score"
   ]
  },
  {
   "cell_type": "code",
   "execution_count": null,
   "id": "uszjwZYwSNCG",
   "metadata": {
    "id": "uszjwZYwSNCG"
   },
   "outputs": [],
   "source": [
    "from bert_score import score as bert_score\n",
    "\n",
    "def compute_metrics(eval_pred):\n",
    "    predictions, labels = eval_pred\n",
    "\n",
    "    # Decode predictions and labels\n",
    "    pred_texts = tokenizer.batch_decode(predictions, skip_special_tokens=True)\n",
    "    label_texts = tokenizer.batch_decode(labels, skip_special_tokens=True)\n",
    "\n",
    "    # Remove empty strings\n",
    "    pred_texts = [text.strip() for text in pred_texts if text.strip()]\n",
    "    label_texts = [text.strip() for text in label_texts if text.strip()]\n",
    "\n",
    "    # BERTScore calculation\n",
    "    P, R, F1 = bert_score(pred_texts, label_texts, lang=\"en\", verbose=False)\n",
    "\n",
    "    return {\n",
    "        \"BERTScore_P\": P.mean().item(),\n",
    "        \"BERTScore_R\": R.mean().item(),\n",
    "        \"BERTScore_F1\": F1.mean().item(),\n",
    "    }\n"
   ]
  },
  {
   "cell_type": "code",
   "execution_count": null,
   "id": "187_dTOo6VR7",
   "metadata": {
    "id": "187_dTOo6VR7"
   },
   "outputs": [],
   "source": [
    "# --- Data Collator ---\n",
    "data_collator = DataCollatorForLanguageModeling(\n",
    "    tokenizer=tokenizer,\n",
    "    mlm=False\n",
    ")"
   ]
  },
  {
   "cell_type": "code",
   "execution_count": null,
   "id": "fx1vw-kS6XfW",
   "metadata": {
    "id": "fx1vw-kS6XfW"
   },
   "outputs": [],
   "source": [
    "# --- Training Arguments ---\n",
    "training_args = TrainingArguments(\n",
    "    output_dir=\"./qwen_outputs_lora\",\n",
    "    eval_strategy=\"steps\",\n",
    "    eval_steps=500,\n",
    "    logging_steps=100,\n",
    "    save_steps=500,\n",
    "    save_total_limit=2,\n",
    "    per_device_train_batch_size=4,\n",
    "    per_device_eval_batch_size=4,\n",
    "    num_train_epochs=3,\n",
    "    learning_rate=5e-4,  # <<< Slightly higher LR for LoRA\n",
    "    weight_decay=0.01,\n",
    "    bf16=True,           # <<< Use bf16\n",
    "    fp16=False,          # <<< Disable fp16\n",
    "    report_to=\"none\",\n",
    "    push_to_hub=False\n",
    ")"
   ]
  },
  {
   "cell_type": "code",
   "execution_count": null,
   "id": "U9lm19286aIe",
   "metadata": {
    "colab": {
     "base_uri": "https://localhost:8080/"
    },
    "id": "U9lm19286aIe",
    "outputId": "2aac50a1-38a1-4c64-9a93-3bd498b10a46"
   },
   "outputs": [
    {
     "name": "stderr",
     "output_type": "stream",
     "text": [
      "<ipython-input-23-ec0e4c336421>:2: FutureWarning: `tokenizer` is deprecated and will be removed in version 5.0.0 for `Trainer.__init__`. Use `processing_class` instead.\n",
      "  trainer = Trainer(\n",
      "No label_names provided for model class `PeftModelForCausalLM`. Since `PeftModel` hides base models input arguments, if label_names is not given, label_names can't be set automatically within `Trainer`. Note that empty label_names list will be used instead.\n"
     ]
    }
   ],
   "source": [
    "# --- Trainer ---\n",
    "trainer = Trainer(\n",
    "    model=model,\n",
    "    args=training_args,\n",
    "    train_dataset=tokenized_dataset,\n",
    "    eval_dataset=tokenized_dataset.select(range(500)),\n",
    "    data_collator=data_collator,\n",
    "    tokenizer=tokenizer,\n",
    ")"
   ]
  },
  {
   "cell_type": "code",
   "execution_count": null,
   "id": "76hc_GuwoIpB",
   "metadata": {
    "colab": {
     "base_uri": "https://localhost:8080/",
     "height": 317
    },
    "id": "76hc_GuwoIpB",
    "outputId": "35d68f70-5d6c-4bcc-b417-3d8da03fdaf6"
   },
   "outputs": [
    {
     "data": {
      "text/html": [
       "\n",
       "    <div>\n",
       "      \n",
       "      <progress value='3420' max='3420' style='width:300px; height:20px; vertical-align: middle;'></progress>\n",
       "      [3420/3420 10:51, Epoch 3/3]\n",
       "    </div>\n",
       "    <table border=\"1\" class=\"dataframe\">\n",
       "  <thead>\n",
       " <tr style=\"text-align: left;\">\n",
       "      <th>Step</th>\n",
       "      <th>Training Loss</th>\n",
       "      <th>Validation Loss</th>\n",
       "    </tr>\n",
       "  </thead>\n",
       "  <tbody>\n",
       "    <tr>\n",
       "      <td>500</td>\n",
       "      <td>0.557900</td>\n",
       "      <td>0.525193</td>\n",
       "    </tr>\n",
       "    <tr>\n",
       "      <td>1000</td>\n",
       "      <td>0.534000</td>\n",
       "      <td>0.480104</td>\n",
       "    </tr>\n",
       "    <tr>\n",
       "      <td>1500</td>\n",
       "      <td>0.480900</td>\n",
       "      <td>0.448638</td>\n",
       "    </tr>\n",
       "    <tr>\n",
       "      <td>2000</td>\n",
       "      <td>0.475800</td>\n",
       "      <td>0.421639</td>\n",
       "    </tr>\n",
       "    <tr>\n",
       "      <td>2500</td>\n",
       "      <td>0.407600</td>\n",
       "      <td>0.393707</td>\n",
       "    </tr>\n",
       "    <tr>\n",
       "      <td>3000</td>\n",
       "      <td>0.411900</td>\n",
       "      <td>0.376870</td>\n",
       "    </tr>\n",
       "  </tbody>\n",
       "</table><p>"
      ],
      "text/plain": [
       "<IPython.core.display.HTML object>"
      ]
     },
     "metadata": {},
     "output_type": "display_data"
    },
    {
     "data": {
      "text/plain": [
       "TrainOutput(global_step=3420, training_loss=0.4734102721799884, metrics={'train_runtime': 651.4547, 'train_samples_per_second': 20.985, 'train_steps_per_second': 5.25, 'total_flos': 2.603649496566989e+16, 'train_loss': 0.4734102721799884, 'epoch': 3.0})"
      ]
     },
     "execution_count": 24,
     "metadata": {},
     "output_type": "execute_result"
    }
   ],
   "source": [
    "# --- Train ---\n",
    "trainer.train()\n",
    "\n",
    "# --- Save only the LoRA adapters ---\n",
    "model.save_pretrained(\"./qwen_outputs_lora_adapter_only\")\n",
    "tokenizer.save_pretrained(\"./qwen_outputs_lora_adapter_only\")\n"
   ]
  },
  {
   "cell_type": "code",
   "execution_count": null,
   "id": "rlQsA2ybQxuA",
   "metadata": {
    "colab": {
     "base_uri": "https://localhost:8080/",
     "height": 564
    },
    "id": "rlQsA2ybQxuA",
    "outputId": "082fe372-98a5-436d-f3ce-65ece137cc36"
   },
   "outputs": [
    {
     "data": {
      "image/png": "[encoded data removed]",
      "text/plain": [
       "<Figure size 800x600 with 1 Axes>"
      ]
     },
     "metadata": {},
     "output_type": "display_data"
    }
   ],
   "source": [
    "import matplotlib.pyplot as plt\n",
    "\n",
    "train_loss_steps = []\n",
    "train_losses = []\n",
    "eval_loss_steps = []\n",
    "eval_losses = []\n",
    "\n",
    "for log in trainer.state.log_history:\n",
    "    if 'loss' in log.keys() and 'step' in log.keys():\n",
    "        train_loss_steps.append(log['step'])\n",
    "        train_losses.append(log['loss'])\n",
    "    if 'eval_loss' in log.keys() and 'step' in log.keys():\n",
    "        eval_loss_steps.append(log['step'])\n",
    "        eval_losses.append(log['eval_loss'])\n",
    "\n",
    "\n",
    "filtered_train_losses = []\n",
    "for s in eval_loss_steps:\n",
    "    if s in train_loss_steps:\n",
    "        idx = train_loss_steps.index(s)\n",
    "        filtered_train_losses.append(train_losses[idx])\n",
    "    else:\n",
    "        filtered_train_losses.append(None)\n",
    "\n",
    "plt.figure(figsize=(8,6))\n",
    "plt.plot(eval_loss_steps, filtered_train_losses, label=\"Train Loss (on eval steps)\", marker='o')\n",
    "plt.plot(eval_loss_steps, eval_losses, label=\"Validation Loss\", marker='x')\n",
    "plt.xlabel(\"Steps\")\n",
    "plt.ylabel(\"Loss\")\n",
    "plt.title(\"Training and Evaluation Loss (aligned)\")\n",
    "plt.legend()\n",
    "plt.grid()\n",
    "plt.show()\n"
   ]
  },
  {
   "cell_type": "code",
   "execution_count": null,
   "id": "IJDC5btKcAsx",
   "metadata": {
    "id": "IJDC5btKcAsx"
   },
   "outputs": [],
   "source": [
    "# # --- Save Model Locally ---\n",
    "output_dir = \"./qwen_finetuned_model_nca\"\n",
    "\n",
    "trainer.save_model(output_dir)  # Save both model and tokenizer\n",
    "tokenizer.save_pretrained(output_dir)"
   ]
  },
  {
   "cell_type": "code",
   "execution_count": null,
   "id": "nO_3HFgsV9Rt",
   "metadata": {
    "id": "nO_3HFgsV9Rt"
   },
   "outputs": [],
   "source": [
    "from datasets import load_dataset\n",
    "from transformers import AutoModelForCausalLM, AutoTokenizer\n",
    "import torch\n",
    "\n",
    "# 1. Load dataset\n",
    "dataset = load_dataset(\"NebulaSense/Legal_Clause_Instructions\")\n",
    "test_dataset = dataset[\"test\"]\n",
    "\n",
    "device = \"cuda\" if torch.cuda.is_available() else \"cpu\"\n",
    "model = model.to(device)\n",
    "\n",
    "# 3. Prepare input texts\n",
    "input_texts = []\n",
    "reference_outputs = []\n",
    "\n",
    "for example in test_dataset:\n",
    "    instr_type = example[\"Instruction_Type\"]\n",
    "    instruction = example[\"Instruction\"]\n",
    "    input_field = example.get(\"Input\", None)\n",
    "\n",
    "    if instr_type not in [\"generation\", \"modification\"]:\n",
    "        continue\n",
    "\n",
    "    prompt = get_instruction_prompt(instr_type, instruction, input_field)\n",
    "\n",
    "    if prompt and example[\"Output\"]:\n",
    "        input_texts.append(prompt)\n",
    "        reference_outputs.append(example[\"Output\"])\n"
   ]
  },
  {
   "cell_type": "code",
   "execution_count": null,
   "id": "iUuatW7qWDel",
   "metadata": {
    "colab": {
     "base_uri": "https://localhost:8080/"
    },
    "id": "iUuatW7qWDel",
    "outputId": "5686343e-b128-4fbb-8cc1-d4ed523761b2"
   },
   "outputs": [
    {
     "name": "stderr",
     "output_type": "stream",
     "text": [
      "Batch Generating...: 100%|██████████| 32/32 [15:32<00:00, 29.14s/it]\n"
     ]
    }
   ],
   "source": [
    "from tqdm import tqdm\n",
    "\n",
    "batch_size = 16\n",
    "generated_texts = []\n",
    "\n",
    "batches = [input_texts[i:i+batch_size] for i in range(0, len(input_texts), batch_size)]\n",
    "\n",
    "for batch in tqdm(batches, desc=\"Batch Generating...\"):\n",
    "    inputs = tokenizer(\n",
    "        batch,\n",
    "        return_tensors=\"pt\",\n",
    "        padding=True,\n",
    "        truncation=True,\n",
    "        max_length=512\n",
    "    ).to(device)\n",
    "\n",
    "    with torch.no_grad():\n",
    "        outputs = model.generate(\n",
    "            **inputs,\n",
    "            max_new_tokens=512,\n",
    "            temperature=0.7,\n",
    "            top_p=0.9,\n",
    "            do_sample=True,\n",
    "            repetition_penalty=1.1,\n",
    "            no_repeat_ngram_size=4,\n",
    "            pad_token_id=tokenizer.eos_token_id,\n",
    "            eos_token_id=tokenizer.eos_token_id\n",
    "        )\n",
    "\n",
    "\n",
    "    batch_preds = tokenizer.batch_decode(outputs, skip_special_tokens=True)\n",
    "\n",
    "\n",
    "    for idx, pred_text in enumerate(batch_preds):\n",
    "        prompt = batch[idx]\n",
    "        if pred_text.lower().startswith(prompt.lower().strip()):\n",
    "            pred_text = pred_text[len(prompt):].strip()\n",
    "        generated_texts.append(pred_text)"
   ]
  },
  {
   "cell_type": "code",
   "execution_count": null,
   "id": "Op1LU0NLWEBN",
   "metadata": {
    "colab": {
     "base_uri": "https://localhost:8080/",
     "height": 489,
     "referenced_widgets": [
      "0b36b82537f04647927842eea7780dad",
      "588c7521ab534c469c30e1b4363d2a7c",
      "6155464a06d7462784ebade92e8be0f9",
      "5c30867d3ebb413bafeeca09bef05557",
      "ef9e5260daec4c6589e85ee19c85f2db",
      "ed0144122d564a17812cff6c190916c3",
      "596c0e71c21441d39a1a32c186ebc877",
      "bf16451f4e5f4a83be374918a9daa2bc",
      "d83d0bf6532a47808a71b62d3b32077b",
      "9b4c2583136144f89a39ce12d47c76aa",
      "900bc8a849ef40c4800ff18972e4e1b6",
      "0f2513b1801d47229ff60a45e11dc4d4",
      "aada12d33b4e4141a6e21fe6474c2d56",
      "1c8264cd2d4d4488a7041a0046989519",
      "60c72aaa79914053bee7e906cf798bef",
      "574612ff7c404d56a183408901a50ab0",
      "d64b3bc9015d4e84967467b759d4699d",
      "236e938d71a74aa5a1f9d57c2923eb8c",
      "0859da3976094f1585a14d5dc30dfdf4",
      "df7c7ee9c18f46ac81c8585f80955c3e",
      "b5d85bf09dff4663872b4824f16b8b71",
      "37a2ef97690c49248c985094cdf8d0a9",
      "0fa63b8e818b4eba8d78e2700b67e310",
      "51f97ffea6a34e7c8848d69a8df55f75",
      "d151a49a86274697be5e2a95761f7b0a",
      "a92822fdafb34142afa06e3674e899b9",
      "1b85bc077b2046bc8e25a6dbd8c9477f",
      "ad3dc8b2e844405692d23b817f51616b",
      "1952ca9b7b654299bcb06d19db918d45",
      "d028491a537b444fbab3ba31e138afcd",
      "d76a9c700f0d4af2b76a51df49f40829",
      "2ca5199687d54bfe8264010664aeae82",
      "4b435313be9245f496c6fe09e4d2fd4f",
      "f14faa59963a4ba78004867efb1bb715",
      "b2f586c501274ac1ac783861be070a5e",
      "08cffdb34e13470f996a951b826bab27",
      "4ec132acd03148b79d70cb06dc24b6d5",
      "7e5e1d6e89924cd9a75e98b03c59d508",
      "fd6f0b5e7aad4b3e90d13612cd4f24b2",
      "01594476a12c4573a0d47a41606c72d8",
      "a8005f472a7e4070bca8e58bb08fdd5f",
      "821f4764cc34415f840dfba0b3fd0c6e",
      "8e243c0bd5144837aa56619c6c559934",
      "7b8df64a0def476d80086776f69558a8",
      "b4730078ed5a4c5398d2cd207373a364",
      "53e7aacb360741c2814a9d27469e57bc",
      "53666776bdbe4d22a0a08ed814a57a52",
      "8a458811ba14402081f349320a0a25b4",
      "9916b9c4db35478592841cfa39ff2612",
      "5ae4c3cb4c844f2fa06d1197223d6047",
      "25950e3086e1467d917e1192d80b9bbe",
      "3ea844ce34d34e289f215892d14cdd9b",
      "303929d2fc3d441ea6e90b1b6b541cf7",
      "e15de5f9e560442ba5f67a1775555611",
      "5314eb379e6b447ba53d18c9db0d27d6",
      "ca4645f9268249c6bb49c0bb9e9318fa",
      "2a595d25d4d444359fb0682cf8c71b6f",
      "0c556ac360f342218df75c5d1b413288",
      "fd59686b9e504c4d99af913fcad1ae80",
      "50fe0b123bdf4a198b795599548a6a99",
      "7abba1235d544a4889281fc77790d398",
      "8c8b064f91464d3b8134ce96fcb4e652",
      "b466ae9f4435404fa2b2aade8c9717a0",
      "24f73d9b6eef4007aae02246e17b43ff",
      "78478ba0b1f1451bb829c3169766d7c0",
      "4a7ba80690834490815018baf75230de",
      "d91c7b3764624489be4acd0cb610d2c3",
      "72c2c96c88f04f18938c8344213d66eb",
      "585da239bd1b49858673a7685151bd50",
      "458ebcb385b4492f8b035ba1e1c115c7",
      "a4e2585388074813948db426784a932c",
      "a188e435f34844d8958bfb2c722bfdac",
      "db04a19dda3f4e7f8679e4a8ac2e2bbe",
      "9595a245bab04b5e8d5eb76b0ecd6b3f",
      "c300bb87a72440e993643e26fc550e13",
      "57a9755e4a1244da89623e92be8dfca6",
      "669689c4cfc54b1c8dd81e7d92328dce",
      "3809db1506f94d3bb716ff74f7a30bfb",
      "41cd171d8a4447bfaffbf3ecd8c4a34a",
      "24b29509975d4124a05f8fadfa31cc00",
      "8562cd12e54746c3a69c9a0d6d0a0c35",
      "14f8e5b05ce34a399eb50aae51d37cbe",
      "262093f1864e437db7af4cb6fbec2b58",
      "79fb5bf9a8b24adebc0cc678456a8541",
      "11e3b58e60a44a26bf3ca78675b7a7ba",
      "fba6e20f7d9a41a5bce98bf6493fe1d2",
      "79f0f84dce3e4d4a9ec7933681da7191",
      "a8bbc6f680374d4985c3312ad8ddc923"
     ]
    },
    "id": "Op1LU0NLWEBN",
    "outputId": "0c272d53-8763-48e2-970c-ebc50cb06d6c"
   },
   "outputs": [
    {
     "data": {
      "application/vnd.jupyter.widget-view+json": {
       "model_id": "0b36b82537f04647927842eea7780dad",
       "version_major": 2,
       "version_minor": 0
      },
      "text/plain": [
       "tokenizer_config.json:   0%|          | 0.00/25.0 [00:00<?, ?B/s]"
      ]
     },
     "metadata": {},
     "output_type": "display_data"
    },
    {
     "data": {
      "application/vnd.jupyter.widget-view+json": {
       "model_id": "0f2513b1801d47229ff60a45e11dc4d4",
       "version_major": 2,
       "version_minor": 0
      },
      "text/plain": [
       "config.json:   0%|          | 0.00/482 [00:00<?, ?B/s]"
      ]
     },
     "metadata": {},
     "output_type": "display_data"
    },
    {
     "data": {
      "application/vnd.jupyter.widget-view+json": {
       "model_id": "0fa63b8e818b4eba8d78e2700b67e310",
       "version_major": 2,
       "version_minor": 0
      },
      "text/plain": [
       "vocab.json:   0%|          | 0.00/899k [00:00<?, ?B/s]"
      ]
     },
     "metadata": {},
     "output_type": "display_data"
    },
    {
     "data": {
      "application/vnd.jupyter.widget-view+json": {
       "model_id": "f14faa59963a4ba78004867efb1bb715",
       "version_major": 2,
       "version_minor": 0
      },
      "text/plain": [
       "merges.txt:   0%|          | 0.00/456k [00:00<?, ?B/s]"
      ]
     },
     "metadata": {},
     "output_type": "display_data"
    },
    {
     "data": {
      "application/vnd.jupyter.widget-view+json": {
       "model_id": "b4730078ed5a4c5398d2cd207373a364",
       "version_major": 2,
       "version_minor": 0
      },
      "text/plain": [
       "tokenizer.json:   0%|          | 0.00/1.36M [00:00<?, ?B/s]"
      ]
     },
     "metadata": {},
     "output_type": "display_data"
    },
    {
     "name": "stderr",
     "output_type": "stream",
     "text": [
      "Xet Storage is enabled for this repo, but the 'hf_xet' package is not installed. Falling back to regular HTTP download. For better performance, install the package with: `pip install huggingface_hub[hf_xet]` or `pip install hf_xet`\n",
      "WARNING:huggingface_hub.file_download:Xet Storage is enabled for this repo, but the 'hf_xet' package is not installed. Falling back to regular HTTP download. For better performance, install the package with: `pip install huggingface_hub[hf_xet]` or `pip install hf_xet`\n"
     ]
    },
    {
     "data": {
      "application/vnd.jupyter.widget-view+json": {
       "model_id": "ca4645f9268249c6bb49c0bb9e9318fa",
       "version_major": 2,
       "version_minor": 0
      },
      "text/plain": [
       "model.safetensors:   0%|          | 0.00/1.42G [00:00<?, ?B/s]"
      ]
     },
     "metadata": {},
     "output_type": "display_data"
    },
    {
     "name": "stderr",
     "output_type": "stream",
     "text": [
      "Some weights of RobertaModel were not initialized from the model checkpoint at roberta-large and are newly initialized: ['pooler.dense.bias', 'pooler.dense.weight']\n",
      "You should probably TRAIN this model on a down-stream task to be able to use it for predictions and inference.\n"
     ]
    },
    {
     "name": "stdout",
     "output_type": "stream",
     "text": [
      "calculating scores...\n",
      "computing bert embedding.\n"
     ]
    },
    {
     "data": {
      "application/vnd.jupyter.widget-view+json": {
       "model_id": "d91c7b3764624489be4acd0cb610d2c3",
       "version_major": 2,
       "version_minor": 0
      },
      "text/plain": [
       "  0%|          | 0/16 [00:00<?, ?it/s]"
      ]
     },
     "metadata": {},
     "output_type": "display_data"
    },
    {
     "name": "stdout",
     "output_type": "stream",
     "text": [
      "computing greedy matching.\n"
     ]
    },
    {
     "data": {
      "application/vnd.jupyter.widget-view+json": {
       "model_id": "3809db1506f94d3bb716ff74f7a30bfb",
       "version_major": 2,
       "version_minor": 0
      },
      "text/plain": [
       "  0%|          | 0/8 [00:00<?, ?it/s]"
      ]
     },
     "metadata": {},
     "output_type": "display_data"
    },
    {
     "name": "stdout",
     "output_type": "stream",
     "text": [
      "done in 13.45 seconds, 37.70 sentences/sec\n",
      "Precision: 0.8415\n",
      "Recall: 0.8764\n",
      "F1: 0.8581\n"
     ]
    }
   ],
   "source": [
    "from bert_score import score\n",
    "\n",
    "P, R, F1 = score(generated_texts, reference_outputs, lang=\"en\", verbose=True)\n",
    "\n",
    "print(f\"Precision: {P.mean().item():.4f}\")\n",
    "print(f\"Recall: {R.mean().item():.4f}\")\n",
    "print(f\"F1: {F1.mean().item():.4f}\")"
   ]
  },
  {
   "cell_type": "code",
   "execution_count": null,
   "id": "1KM-RuFGcApQ",
   "metadata": {
    "id": "1KM-RuFGcApQ"
   },
   "outputs": [],
   "source": [
    "input_text = \"\"\"### Instruction:\n",
    "Generate a salary clause for a employee agreement for ABC Company And John Smith.\n",
    "montly salary is 50000 Baht, starting date is 01.06.2025\n",
    "END the clause formally and completely.\n",
    "Bullet point with correct number.\n",
    "### Response:\"\"\"\n",
    "\n",
    "inputs = tokenizer(input_text, return_tensors=\"pt\").to(model.device)\n",
    "\n",
    "outputs = model.generate(\n",
    "    **inputs,\n",
    "    max_new_tokens=512,\n",
    "    do_sample=True,\n",
    "    temperature=0.7,\n",
    "    top_p=0.9,\n",
    "    repetition_penalty=1.1,\n",
    "    eos_token_id=tokenizer.eos_token_id,\n",
    "    pad_token_id=tokenizer.pad_token_id,\n",
    "    early_stopping=True\n",
    ")\n",
    "\n",
    "generated_text = tokenizer.decode(outputs[0], skip_special_tokens=True)\n",
    "\n",
    "# Optional cleaning\n",
    "generated_text = generated_text.split(\"{}\")[0].strip()\n",
    "\n",
    "print(generated_text)\n"
   ]
  },
  {
   "cell_type": "code",
   "execution_count": 3,
   "id": "15a6037b",
   "metadata": {},
   "outputs": [
    {
     "name": "stdout",
     "output_type": "stream",
     "text": [
      "Collecting spacy\n",
      "  Downloading spacy-3.8.5-cp310-cp310-macosx_11_0_arm64.whl.metadata (27 kB)\n",
      "Collecting spacy-legacy<3.1.0,>=3.0.11 (from spacy)\n",
      "  Using cached spacy_legacy-3.0.12-py2.py3-none-any.whl.metadata (2.8 kB)\n",
      "Collecting spacy-loggers<2.0.0,>=1.0.0 (from spacy)\n",
      "  Using cached spacy_loggers-1.0.5-py3-none-any.whl.metadata (23 kB)\n",
      "Collecting murmurhash<1.1.0,>=0.28.0 (from spacy)\n",
      "  Downloading murmurhash-1.0.12-cp310-cp310-macosx_11_0_arm64.whl.metadata (2.1 kB)\n",
      "Collecting cymem<2.1.0,>=2.0.2 (from spacy)\n",
      "  Downloading cymem-2.0.11-cp310-cp310-macosx_11_0_arm64.whl.metadata (8.5 kB)\n",
      "Collecting preshed<3.1.0,>=3.0.2 (from spacy)\n",
      "  Downloading preshed-3.0.9-cp310-cp310-macosx_11_0_arm64.whl.metadata (2.2 kB)\n",
      "Collecting thinc<8.4.0,>=8.3.4 (from spacy)\n",
      "  Downloading thinc-8.3.6-cp310-cp310-macosx_11_0_arm64.whl.metadata (15 kB)\n",
      "Collecting wasabi<1.2.0,>=0.9.1 (from spacy)\n",
      "  Using cached wasabi-1.1.3-py3-none-any.whl.metadata (28 kB)\n",
      "Collecting srsly<3.0.0,>=2.4.3 (from spacy)\n",
      "  Downloading srsly-2.5.1-cp310-cp310-macosx_11_0_arm64.whl.metadata (19 kB)\n",
      "Collecting catalogue<2.1.0,>=2.0.6 (from spacy)\n",
      "  Using cached catalogue-2.0.10-py3-none-any.whl.metadata (14 kB)\n",
      "Collecting weasel<0.5.0,>=0.1.0 (from spacy)\n",
      "  Using cached weasel-0.4.1-py3-none-any.whl.metadata (4.6 kB)\n",
      "Collecting typer<1.0.0,>=0.3.0 (from spacy)\n",
      "  Using cached typer-0.15.2-py3-none-any.whl.metadata (15 kB)\n",
      "Requirement already satisfied: tqdm<5.0.0,>=4.38.0 in /opt/anaconda3/envs/cleantext/lib/python3.10/site-packages (from spacy) (4.67.1)\n",
      "Requirement already satisfied: numpy>=1.19.0 in /opt/anaconda3/envs/cleantext/lib/python3.10/site-packages (from spacy) (2.2.4)\n",
      "Requirement already satisfied: requests<3.0.0,>=2.13.0 in /opt/anaconda3/envs/cleantext/lib/python3.10/site-packages (from spacy) (2.32.3)\n",
      "Collecting pydantic!=1.8,!=1.8.1,<3.0.0,>=1.7.4 (from spacy)\n",
      "  Using cached pydantic-2.11.3-py3-none-any.whl.metadata (65 kB)\n",
      "Requirement already satisfied: jinja2 in /opt/anaconda3/envs/cleantext/lib/python3.10/site-packages (from spacy) (3.1.6)\n",
      "Requirement already satisfied: setuptools in /opt/anaconda3/envs/cleantext/lib/python3.10/site-packages (from spacy) (75.8.0)\n",
      "Requirement already satisfied: packaging>=20.0 in /opt/anaconda3/envs/cleantext/lib/python3.10/site-packages (from spacy) (24.2)\n",
      "Collecting langcodes<4.0.0,>=3.2.0 (from spacy)\n",
      "  Using cached langcodes-3.5.0-py3-none-any.whl.metadata (29 kB)\n",
      "Collecting language-data>=1.2 (from langcodes<4.0.0,>=3.2.0->spacy)\n",
      "  Using cached language_data-1.3.0-py3-none-any.whl.metadata (4.3 kB)\n",
      "Collecting annotated-types>=0.6.0 (from pydantic!=1.8,!=1.8.1,<3.0.0,>=1.7.4->spacy)\n",
      "  Using cached annotated_types-0.7.0-py3-none-any.whl.metadata (15 kB)\n",
      "Collecting pydantic-core==2.33.1 (from pydantic!=1.8,!=1.8.1,<3.0.0,>=1.7.4->spacy)\n",
      "  Downloading pydantic_core-2.33.1-cp310-cp310-macosx_11_0_arm64.whl.metadata (6.8 kB)\n",
      "Requirement already satisfied: typing-extensions>=4.12.2 in /opt/anaconda3/envs/cleantext/lib/python3.10/site-packages (from pydantic!=1.8,!=1.8.1,<3.0.0,>=1.7.4->spacy) (4.12.2)\n",
      "Collecting typing-inspection>=0.4.0 (from pydantic!=1.8,!=1.8.1,<3.0.0,>=1.7.4->spacy)\n",
      "  Using cached typing_inspection-0.4.0-py3-none-any.whl.metadata (2.6 kB)\n",
      "Requirement already satisfied: charset-normalizer<4,>=2 in /opt/anaconda3/envs/cleantext/lib/python3.10/site-packages (from requests<3.0.0,>=2.13.0->spacy) (3.4.1)\n",
      "Requirement already satisfied: idna<4,>=2.5 in /opt/anaconda3/envs/cleantext/lib/python3.10/site-packages (from requests<3.0.0,>=2.13.0->spacy) (3.10)\n",
      "Requirement already satisfied: urllib3<3,>=1.21.1 in /opt/anaconda3/envs/cleantext/lib/python3.10/site-packages (from requests<3.0.0,>=2.13.0->spacy) (2.3.0)\n",
      "Requirement already satisfied: certifi>=2017.4.17 in /opt/anaconda3/envs/cleantext/lib/python3.10/site-packages (from requests<3.0.0,>=2.13.0->spacy) (2025.1.31)\n",
      "Collecting blis<1.4.0,>=1.3.0 (from thinc<8.4.0,>=8.3.4->spacy)\n",
      "  Downloading blis-1.3.0-cp310-cp310-macosx_11_0_arm64.whl.metadata (7.4 kB)\n",
      "Collecting confection<1.0.0,>=0.0.1 (from thinc<8.4.0,>=8.3.4->spacy)\n",
      "  Using cached confection-0.1.5-py3-none-any.whl.metadata (19 kB)\n",
      "Collecting click>=8.0.0 (from typer<1.0.0,>=0.3.0->spacy)\n",
      "  Using cached click-8.1.8-py3-none-any.whl.metadata (2.3 kB)\n",
      "Collecting shellingham>=1.3.0 (from typer<1.0.0,>=0.3.0->spacy)\n",
      "  Using cached shellingham-1.5.4-py2.py3-none-any.whl.metadata (3.5 kB)\n",
      "Collecting rich>=10.11.0 (from typer<1.0.0,>=0.3.0->spacy)\n",
      "  Using cached rich-14.0.0-py3-none-any.whl.metadata (18 kB)\n",
      "Collecting cloudpathlib<1.0.0,>=0.7.0 (from weasel<0.5.0,>=0.1.0->spacy)\n",
      "  Using cached cloudpathlib-0.21.0-py3-none-any.whl.metadata (14 kB)\n",
      "Collecting smart-open<8.0.0,>=5.2.1 (from weasel<0.5.0,>=0.1.0->spacy)\n",
      "  Using cached smart_open-7.1.0-py3-none-any.whl.metadata (24 kB)\n",
      "Requirement already satisfied: MarkupSafe>=2.0 in /opt/anaconda3/envs/cleantext/lib/python3.10/site-packages (from jinja2->spacy) (3.0.2)\n",
      "Collecting marisa-trie>=1.1.0 (from language-data>=1.2->langcodes<4.0.0,>=3.2.0->spacy)\n",
      "  Downloading marisa_trie-1.2.1-cp310-cp310-macosx_11_0_arm64.whl.metadata (9.0 kB)\n",
      "Collecting markdown-it-py>=2.2.0 (from rich>=10.11.0->typer<1.0.0,>=0.3.0->spacy)\n",
      "  Using cached markdown_it_py-3.0.0-py3-none-any.whl.metadata (6.9 kB)\n",
      "Requirement already satisfied: pygments<3.0.0,>=2.13.0 in /opt/anaconda3/envs/cleantext/lib/python3.10/site-packages (from rich>=10.11.0->typer<1.0.0,>=0.3.0->spacy) (2.19.1)\n",
      "Collecting wrapt (from smart-open<8.0.0,>=5.2.1->weasel<0.5.0,>=0.1.0->spacy)\n",
      "  Downloading wrapt-1.17.2-cp310-cp310-macosx_11_0_arm64.whl.metadata (6.4 kB)\n",
      "Collecting mdurl~=0.1 (from markdown-it-py>=2.2.0->rich>=10.11.0->typer<1.0.0,>=0.3.0->spacy)\n",
      "  Using cached mdurl-0.1.2-py3-none-any.whl.metadata (1.6 kB)\n",
      "Downloading spacy-3.8.5-cp310-cp310-macosx_11_0_arm64.whl (6.3 MB)\n",
      "\u001b[2K   \u001b[90m━━━━━━━━━━━━━━━━━━━━━━━━━━━━━━━━━━━━━━━━\u001b[0m \u001b[32m6.3/6.3 MB\u001b[0m \u001b[31m767.9 kB/s\u001b[0m eta \u001b[36m0:00:00\u001b[0ma \u001b[36m0:00:01\u001b[0m\n",
      "\u001b[?25hUsing cached catalogue-2.0.10-py3-none-any.whl (17 kB)\n",
      "Downloading cymem-2.0.11-cp310-cp310-macosx_11_0_arm64.whl (41 kB)\n",
      "Using cached langcodes-3.5.0-py3-none-any.whl (182 kB)\n",
      "Downloading murmurhash-1.0.12-cp310-cp310-macosx_11_0_arm64.whl (26 kB)\n",
      "Downloading preshed-3.0.9-cp310-cp310-macosx_11_0_arm64.whl (127 kB)\n",
      "Using cached pydantic-2.11.3-py3-none-any.whl (443 kB)\n",
      "Downloading pydantic_core-2.33.1-cp310-cp310-macosx_11_0_arm64.whl (1.9 MB)\n",
      "\u001b[2K   \u001b[90m━━━━━━━━━━━━━━━━━━━━━━━━━━━━━━━━━━━━━━━━\u001b[0m \u001b[32m1.9/1.9 MB\u001b[0m \u001b[31m658.5 kB/s\u001b[0m eta \u001b[36m0:00:00\u001b[0ma \u001b[36m0:00:01\u001b[0m\n",
      "\u001b[?25hUsing cached spacy_legacy-3.0.12-py2.py3-none-any.whl (29 kB)\n",
      "Using cached spacy_loggers-1.0.5-py3-none-any.whl (22 kB)\n",
      "Downloading srsly-2.5.1-cp310-cp310-macosx_11_0_arm64.whl (634 kB)\n",
      "\u001b[2K   \u001b[90m━━━━━━━━━━━━━━━━━━━━━━━━━━━━━━━━━━━━━━━\u001b[0m \u001b[32m634.4/634.4 kB\u001b[0m \u001b[31m585.6 kB/s\u001b[0m eta \u001b[36m0:00:00\u001b[0ma \u001b[36m0:00:01\u001b[0m\n",
      "\u001b[?25hDownloading thinc-8.3.6-cp310-cp310-macosx_11_0_arm64.whl (844 kB)\n",
      "\u001b[2K   \u001b[90m━━━━━━━━━━━━━━━━━━━━━━━━━━━━━━━━━━━━━━━\u001b[0m \u001b[32m844.9/844.9 kB\u001b[0m \u001b[31m882.1 kB/s\u001b[0m eta \u001b[36m0:00:00\u001b[0ma \u001b[36m0:00:01\u001b[0m\n",
      "\u001b[?25hUsing cached typer-0.15.2-py3-none-any.whl (45 kB)\n",
      "Using cached wasabi-1.1.3-py3-none-any.whl (27 kB)\n",
      "Using cached weasel-0.4.1-py3-none-any.whl (50 kB)\n",
      "Using cached annotated_types-0.7.0-py3-none-any.whl (13 kB)\n",
      "Downloading blis-1.3.0-cp310-cp310-macosx_11_0_arm64.whl (1.3 MB)\n",
      "\u001b[2K   \u001b[90m━━━━━━━━━━━━━━━━━━━━━━━━━━━━━━━━━━━━━━━━\u001b[0m \u001b[32m1.3/1.3 MB\u001b[0m \u001b[31m517.1 kB/s\u001b[0m eta \u001b[36m0:00:00\u001b[0ma \u001b[36m0:00:01\u001b[0m\n",
      "\u001b[?25hUsing cached click-8.1.8-py3-none-any.whl (98 kB)\n",
      "Using cached cloudpathlib-0.21.0-py3-none-any.whl (52 kB)\n",
      "Using cached confection-0.1.5-py3-none-any.whl (35 kB)\n",
      "Using cached language_data-1.3.0-py3-none-any.whl (5.4 MB)\n",
      "Using cached rich-14.0.0-py3-none-any.whl (243 kB)\n",
      "Using cached shellingham-1.5.4-py2.py3-none-any.whl (9.8 kB)\n",
      "Using cached smart_open-7.1.0-py3-none-any.whl (61 kB)\n",
      "Using cached typing_inspection-0.4.0-py3-none-any.whl (14 kB)\n",
      "Downloading marisa_trie-1.2.1-cp310-cp310-macosx_11_0_arm64.whl (174 kB)\n",
      "Using cached markdown_it_py-3.0.0-py3-none-any.whl (87 kB)\n",
      "Downloading wrapt-1.17.2-cp310-cp310-macosx_11_0_arm64.whl (38 kB)\n",
      "Using cached mdurl-0.1.2-py3-none-any.whl (10.0 kB)\n",
      "Installing collected packages: cymem, wrapt, wasabi, typing-inspection, spacy-loggers, spacy-legacy, shellingham, pydantic-core, murmurhash, mdurl, marisa-trie, cloudpathlib, click, catalogue, blis, annotated-types, srsly, smart-open, pydantic, preshed, markdown-it-py, language-data, rich, langcodes, confection, typer, thinc, weasel, spacy\n",
      "Successfully installed annotated-types-0.7.0 blis-1.3.0 catalogue-2.0.10 click-8.1.8 cloudpathlib-0.21.0 confection-0.1.5 cymem-2.0.11 langcodes-3.5.0 language-data-1.3.0 marisa-trie-1.2.1 markdown-it-py-3.0.0 mdurl-0.1.2 murmurhash-1.0.12 preshed-3.0.9 pydantic-2.11.3 pydantic-core-2.33.1 rich-14.0.0 shellingham-1.5.4 smart-open-7.1.0 spacy-3.8.5 spacy-legacy-3.0.12 spacy-loggers-1.0.5 srsly-2.5.1 thinc-8.3.6 typer-0.15.2 typing-inspection-0.4.0 wasabi-1.1.3 weasel-0.4.1 wrapt-1.17.2\n"
     ]
    }
   ],
   "source": [
    "# !pip install spacy"
   ]
  },
  {
   "cell_type": "code",
   "execution_count": null,
   "id": "l99V75ltg2mR",
   "metadata": {
    "id": "l99V75ltg2mR"
   },
   "outputs": [
    {
     "ename": "OSError",
     "evalue": "[E050] Can't find model 'en_core_web_sm'. It doesn't seem to be a Python package or a valid path to a data directory.",
     "output_type": "error",
     "traceback": [
      "\u001b[0;31m---------------------------------------------------------------------------\u001b[0m",
      "\u001b[0;31mOSError\u001b[0m                                   Traceback (most recent call last)",
      "Cell \u001b[0;32mIn[4], line 4\u001b[0m\n\u001b[1;32m      1\u001b[0m \u001b[38;5;28;01mimport\u001b[39;00m\u001b[38;5;250m \u001b[39m\u001b[38;5;21;01mspacy\u001b[39;00m\n\u001b[1;32m      3\u001b[0m \u001b[38;5;66;03m# Load the spaCy model\u001b[39;00m\n\u001b[0;32m----> 4\u001b[0m nlp \u001b[38;5;241m=\u001b[39m \u001b[43mspacy\u001b[49m\u001b[38;5;241;43m.\u001b[39;49m\u001b[43mload\u001b[49m\u001b[43m(\u001b[49m\u001b[38;5;124;43m\"\u001b[39;49m\u001b[38;5;124;43men_core_web_sm\u001b[39;49m\u001b[38;5;124;43m\"\u001b[39;49m\u001b[43m)\u001b[49m\n\u001b[1;32m      6\u001b[0m \u001b[38;5;28;01mdef\u001b[39;00m\u001b[38;5;250m \u001b[39m\u001b[38;5;21mremove_incomplete_sentence_and_add_bullet_points\u001b[39m(text):\n\u001b[1;32m      7\u001b[0m     \u001b[38;5;66;03m# Process the text using spaCy\u001b[39;00m\n\u001b[1;32m      8\u001b[0m     doc \u001b[38;5;241m=\u001b[39m nlp(text)\n",
      "File \u001b[0;32m/opt/anaconda3/envs/cleantext/lib/python3.10/site-packages/spacy/__init__.py:51\u001b[0m, in \u001b[0;36mload\u001b[0;34m(name, vocab, disable, enable, exclude, config)\u001b[0m\n\u001b[1;32m     27\u001b[0m \u001b[38;5;28;01mdef\u001b[39;00m\u001b[38;5;250m \u001b[39m\u001b[38;5;21mload\u001b[39m(\n\u001b[1;32m     28\u001b[0m     name: Union[\u001b[38;5;28mstr\u001b[39m, Path],\n\u001b[1;32m     29\u001b[0m     \u001b[38;5;241m*\u001b[39m,\n\u001b[0;32m   (...)\u001b[0m\n\u001b[1;32m     34\u001b[0m     config: Union[Dict[\u001b[38;5;28mstr\u001b[39m, Any], Config] \u001b[38;5;241m=\u001b[39m util\u001b[38;5;241m.\u001b[39mSimpleFrozenDict(),\n\u001b[1;32m     35\u001b[0m ) \u001b[38;5;241m-\u001b[39m\u001b[38;5;241m>\u001b[39m Language:\n\u001b[1;32m     36\u001b[0m \u001b[38;5;250m    \u001b[39m\u001b[38;5;124;03m\"\"\"Load a spaCy model from an installed package or a local path.\u001b[39;00m\n\u001b[1;32m     37\u001b[0m \n\u001b[1;32m     38\u001b[0m \u001b[38;5;124;03m    name (str): Package name or model path.\u001b[39;00m\n\u001b[0;32m   (...)\u001b[0m\n\u001b[1;32m     49\u001b[0m \u001b[38;5;124;03m    RETURNS (Language): The loaded nlp object.\u001b[39;00m\n\u001b[1;32m     50\u001b[0m \u001b[38;5;124;03m    \"\"\"\u001b[39;00m\n\u001b[0;32m---> 51\u001b[0m     \u001b[38;5;28;01mreturn\u001b[39;00m \u001b[43mutil\u001b[49m\u001b[38;5;241;43m.\u001b[39;49m\u001b[43mload_model\u001b[49m\u001b[43m(\u001b[49m\n\u001b[1;32m     52\u001b[0m \u001b[43m        \u001b[49m\u001b[43mname\u001b[49m\u001b[43m,\u001b[49m\n\u001b[1;32m     53\u001b[0m \u001b[43m        \u001b[49m\u001b[43mvocab\u001b[49m\u001b[38;5;241;43m=\u001b[39;49m\u001b[43mvocab\u001b[49m\u001b[43m,\u001b[49m\n\u001b[1;32m     54\u001b[0m \u001b[43m        \u001b[49m\u001b[43mdisable\u001b[49m\u001b[38;5;241;43m=\u001b[39;49m\u001b[43mdisable\u001b[49m\u001b[43m,\u001b[49m\n\u001b[1;32m     55\u001b[0m \u001b[43m        \u001b[49m\u001b[43menable\u001b[49m\u001b[38;5;241;43m=\u001b[39;49m\u001b[43menable\u001b[49m\u001b[43m,\u001b[49m\n\u001b[1;32m     56\u001b[0m \u001b[43m        \u001b[49m\u001b[43mexclude\u001b[49m\u001b[38;5;241;43m=\u001b[39;49m\u001b[43mexclude\u001b[49m\u001b[43m,\u001b[49m\n\u001b[1;32m     57\u001b[0m \u001b[43m        \u001b[49m\u001b[43mconfig\u001b[49m\u001b[38;5;241;43m=\u001b[39;49m\u001b[43mconfig\u001b[49m\u001b[43m,\u001b[49m\n\u001b[1;32m     58\u001b[0m \u001b[43m    \u001b[49m\u001b[43m)\u001b[49m\n",
      "File \u001b[0;32m/opt/anaconda3/envs/cleantext/lib/python3.10/site-packages/spacy/util.py:472\u001b[0m, in \u001b[0;36mload_model\u001b[0;34m(name, vocab, disable, enable, exclude, config)\u001b[0m\n\u001b[1;32m    470\u001b[0m \u001b[38;5;28;01mif\u001b[39;00m name \u001b[38;5;129;01min\u001b[39;00m OLD_MODEL_SHORTCUTS:\n\u001b[1;32m    471\u001b[0m     \u001b[38;5;28;01mraise\u001b[39;00m \u001b[38;5;167;01mIOError\u001b[39;00m(Errors\u001b[38;5;241m.\u001b[39mE941\u001b[38;5;241m.\u001b[39mformat(name\u001b[38;5;241m=\u001b[39mname, full\u001b[38;5;241m=\u001b[39mOLD_MODEL_SHORTCUTS[name]))  \u001b[38;5;66;03m# type: ignore[index]\u001b[39;00m\n\u001b[0;32m--> 472\u001b[0m \u001b[38;5;28;01mraise\u001b[39;00m \u001b[38;5;167;01mIOError\u001b[39;00m(Errors\u001b[38;5;241m.\u001b[39mE050\u001b[38;5;241m.\u001b[39mformat(name\u001b[38;5;241m=\u001b[39mname))\n",
      "\u001b[0;31mOSError\u001b[0m: [E050] Can't find model 'en_core_web_sm'. It doesn't seem to be a Python package or a valid path to a data directory."
     ]
    }
   ],
   "source": [
    "import spacy\n",
    "\n",
    "# Load the spaCy model\n",
    "nlp = spacy.load(\"en_core_web_sm\")\n",
    "\n",
    "\n",
    "def remove_incomplete_sentence_and_add_bullet_points(text):\n",
    "    # Process the text using spaCy\n",
    "    doc = nlp(text)\n",
    "\n",
    "    # Split the text into sentences\n",
    "    sentences = list(doc.sents)\n",
    "    \n",
    "    # Remove empty numbered sentences (e.g., \"2.\" with no content after it)\n",
    "    sentences = [sent for sent in sentences if not (sent.text.strip().isdigit() or (sent.text.strip()[0].isdigit() and len(sent.text.strip()) <= 3))]\n",
    "\n",
    "    # Rebuild the text with bullet points and numbered sentences\n",
    "    cleaned_text = \"<ul>\"\n",
    "\n",
    "    for sent in sentences:\n",
    "        sentence_text = sent.text.strip()\n",
    "\n",
    "        # Check if the sentence ends with a colon (e.g., \"Job Title and Responsibilities:\")\n",
    "        if sentence_text.endswith(\":\"):\n",
    "            # Make the part before the colon bold\n",
    "            part_before_colon = sentence_text.split(\":\", 1)[0]\n",
    "            part_after_colon = sentence_text.split(\":\", 1)[1].strip()\n",
    "            cleaned_text += f\"<li><strong>{part_before_colon}:</strong> {part_after_colon}</li>\"\n",
    "        elif sentence_text and sentence_text[0].isdigit() and sentence_text[1] == \".\":\n",
    "            # For numbered sentences, retain the number and add it as part of the list item\n",
    "            cleaned_text += f\"<li>{sentence_text}</li>\"\n",
    "        else:\n",
    "            # For unnumbered sentences, add a bullet point\n",
    "            cleaned_text += f\"<li>{sentence_text}</li>\"\n",
    "\n",
    "    cleaned_text += \"</ul>\"\n",
    "    \n",
    "    return cleaned_text\n",
    "\n",
    "# Example usage\n",
    "generated_text = \"\"\"\n",
    "1. Definition of Confidential Information: \"Confidential Information\" means any and all information disclosed by the Asian Institute to the ABC Organisation, whether in writing, orally, or by any other means, that is designated as confidential or that reasonably should be understood to be confidential given the nature of the information and the circumstances of disclosure.\n",
    "2. \n",
    "Obligations of the Receiving Party:\n",
    "The Receiving Party agrees to hold the Confidential Information in strict confidence and not to disclose it to any third party without the prior written consent of the Asian Institute.\n",
    "The Receiving Party shall use the Confidential Information solely for the purpose of evaluating a potential business relationship between the two parties.\n",
    "3. \n",
    "Exceptions: The obligations of the Receiving Party under this NDA shall not apply to any Confidential Information that: (a) is or becomes generally available to the public through no fault of the Receiving Party; (b) was in the possession of the Receiving Party prior to its disclosure by the Asian Institute; (c) is rightfully obtained by the Receiving Party from a third party without restriction on disclosure; or (d) is independently developed by the Receiving Party without reference to the Confidential Information.\n",
    "4. \n",
    "Term: The obligations of the Receiving Party under this NDA shall survive for a period of five (5) years from the date of disclosure of the Confidential Information.\n",
    "\"\"\"\n",
    "\n",
    "cleaned_text = remove_incomplete_sentence_and_add_bullet_points(generated_text)\n",
    "print(cleaned_text)\n"
   ]
  }
 ],
 "metadata": {
  "accelerator": "GPU",
  "colab": {
   "gpuType": "A100",
   "machine_shape": "hm",
   "provenance": []
  },
  "kernelspec": {
   "display_name": "cleantext",
   "language": "python",
   "name": "python3"
  },
  "language_info": {
   "codemirror_mode": {
    "name": "ipython",
    "version": 3
   },
   "file_extension": ".py",
   "mimetype": "text/x-python",
   "name": "python",
   "nbconvert_exporter": "python",
   "pygments_lexer": "ipython3",
   "version": "3.10.16"
  }
 },
 "nbformat": 4,
 "nbformat_minor": 5
}
