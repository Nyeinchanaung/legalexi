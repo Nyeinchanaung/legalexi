{
 "cells": [
  {
   "cell_type": "code",
   "execution_count": 1,
   "id": "7e2a91b1-cd24-4f6c-a1ad-a4cd824478ed",
   "metadata": {},
   "outputs": [
    {
     "name": "stderr",
     "output_type": "stream",
     "text": [
      "2025-04-09 16:51:58.848244: E external/local_xla/xla/stream_executor/cuda/cuda_fft.cc:477] Unable to register cuFFT factory: Attempting to register factory for plugin cuFFT when one has already been registered\n",
      "WARNING: All log messages before absl::InitializeLog() is called are written to STDERR\n",
      "E0000 00:00:1744217518.870302 2165589 cuda_dnn.cc:8310] Unable to register cuDNN factory: Attempting to register factory for plugin cuDNN when one has already been registered\n",
      "E0000 00:00:1744217518.877044 2165589 cuda_blas.cc:1418] Unable to register cuBLAS factory: Attempting to register factory for plugin cuBLAS when one has already been registered\n",
      "2025-04-09 16:51:58.900626: I tensorflow/core/platform/cpu_feature_guard.cc:210] This TensorFlow binary is optimized to use available CPU instructions in performance-critical operations.\n",
      "To enable the following instructions: AVX2 FMA, in other operations, rebuild TensorFlow with the appropriate compiler flags.\n"
     ]
    },
    {
     "data": {
      "text/plain": [
       "device(type='cuda')"
      ]
     },
     "execution_count": 1,
     "metadata": {},
     "output_type": "execute_result"
    }
   ],
   "source": [
    "import os\n",
    "import torch\n",
    "import json\n",
    "from transformers import BertTokenizer, BertForSequenceClassification, Trainer, TrainingArguments, pipeline\n",
    "from transformers import (\n",
    "    GPT2LMHeadModel,\n",
    "    GPT2Tokenizer,\n",
    "    TextDataset,\n",
    "    DataCollatorForLanguageModeling,\n",
    "    Trainer,\n",
    "    TrainingArguments\n",
    ")\n",
    "import matplotlib.pyplot as plt\n",
    "# Set GPU device\n",
    "os.environ[\"CUDA_VISIBLE_DEVICES\"] = \"3\"\n",
    "\n",
    "os.environ['http_proxy']  = 'http://192.41.170.23:3128'\n",
    "os.environ['https_proxy'] = 'http://192.41.170.23:3128'\n",
    "\n",
    "device = torch.device('cuda' if torch.cuda.is_available() else 'cpu')\n",
    "device"
   ]
  },
  {
   "cell_type": "code",
   "execution_count": 2,
   "id": "a2eedc73-437e-4b0f-a278-9914b6700bb4",
   "metadata": {},
   "outputs": [],
   "source": [
    "def load_data(file_path):\n",
    "    with open(file_path, 'r') as f:\n",
    "        data = json.load(f)\n",
    "    return data"
   ]
  },
  {
   "cell_type": "code",
   "execution_count": 3,
   "id": "cf7cda79-67ee-4028-ae19-8774ae51674a",
   "metadata": {},
   "outputs": [],
   "source": [
    "# Load train, dev, and test data\n",
    "train_data = load_data('./dataset/train.json')\n",
    "dev_data = load_data('./dataset/dev.json')\n",
    "test_data = load_data('./dataset/test.json')"
   ]
  },
  {
   "cell_type": "code",
   "execution_count": 4,
   "id": "e2ac6836-5b11-45f0-b753-034317229eaf",
   "metadata": {},
   "outputs": [
    {
     "name": "stdout",
     "output_type": "stream",
     "text": [
      "dict_keys(['documents', 'labels'])\n",
      "dict_keys(['documents', 'labels'])\n",
      "dict_keys(['documents', 'labels'])\n"
     ]
    }
   ],
   "source": [
    "# Check the keys of the train_data dictionary\n",
    "print(train_data.keys())  # Check the keys in the dictionary\n",
    "print(dev_data.keys())    # Check the keys in the dev_data dictionary\n",
    "print(test_data.keys())   # Check the keys in the test_data dictionary"
   ]
  },
  {
   "cell_type": "code",
   "execution_count": 5,
   "id": "dfda3b3f-fcbf-4331-bf72-13ea64e54253",
   "metadata": {},
   "outputs": [],
   "source": [
    "def extract_text(data, key='documents'):\n",
    "    # Extract the 'text' field from each dictionary in the list under the 'documents' key\n",
    "    return [entry['text'] for entry in data[key]]  # Ensure 'text' is the correct field name"
   ]
  },
  {
   "cell_type": "code",
   "execution_count": 6,
   "id": "007fb771-c1f5-4fbc-975f-2c60bd771e99",
   "metadata": {},
   "outputs": [
    {
     "name": "stdout",
     "output_type": "stream",
     "text": [
      "[\"NON-DISCLOSURE AND CONFIDENTIALITY AGREEMENT\\nThis NON-DISCLOSURE AND CONFIDENTIALITY AGREEMENT (“Agreement”) is made by and between:\\n(i) the Office of the United Nations High Commissioner for Refugees, having its headquarters located at 94 rue de Montbrillant, 1202 Geneva, Switzerland (hereinafter “UNHCR” or the “Discloser”); and\\n(ii) ________________________ , a company established in accordance with the laws of ________________________ and having its principal offices located at ________________________________________________ (hereinafter the “Bidder” or the “Recipient”).\\nThe Discloser and Recipient are also referred to collectively as the “Parties” and individually as a “Party”.\\nRECITALS\\nWHEREAS in connection with RFP/2014/620, Request for Proposal for the provision Off-the-shelf Soft-skill, IT Online and HR specific E-learning Courses (the “RFP”), it is advantageous to share certain data and information with the Bidder participating in the RFP;\\nWHEREAS UNHCR agrees to provide such data and information to the Bidder for the sole purpose of preparing its Proposal under said RFP;\\nWHEREAS the Bidder is willing to ensure that UNHCR’s data and information will be held in strict confidence and only used for the permitted purpose;\\nNOW, THEREFORE, the Parties agree as follows:\\n1. “Confidential Information”, whenever used in this Agreement, shall mean any data, document, specification and other information or material, that is delivered or disclosed by UNHCR to the Recipient in any form whatsoever, whether orally, visually in writing or otherwise (including computerized form), and that, at the time of disclosure to the Recipient, is designated as confidential.\\n2. The Confidential Information that is delivered or otherwise disclosed by the Discloser to the Recipient shall be held in trust and confidence by the Recipient and shall be handled as follows:\\n2.1 The Recipient shall use the same care and discretion to avoid disclosure, publication or dissemination of the Confidential Information as it uses with its own similar information that it does not wish to disclose, publish or disseminate;\\n2.2 The Recipient shall use the Confidential Information solely for the purpose for which it was disclosed;\\n2.3 Provided that the Recipient has a written agreement with the following persons or entities requiring them to treat the Confidential Information in accordance with this Agreement, the Recipient may disclose the Confidential Information to:\\n2.3.1 Any other party with the Discloser’s prior written consent; and\\n2.3.2 the Recipient’s employees, officials, representatives and agents who have a strict need to know the contents of the Confidential Information, and employees, officials, representatives and agents of any legal entity that it controls, controls it, or with which it is under common control, who have a similar need to know the contents of the Confidential Information, provided that, for these purposes a controlled legal entity means:\\n2.3.2.1 a corporate entity in which the Party owns or otherwise controls, whether directly or indirectly, over fifty percent (50%) of voting shares thereof; or,\\n2.3.2.2 any entity over which the Party exercises effective managerial control; or,\\n2.3.2.3 for UNHCR, a principal or subsidiary organ of the United Nations established in accordance with the Charter of the United Nations.\\n2.4 The Recipient may disclose the Confidential Information to the extent required by law, provided that, subject to and without any waiver of the privileges and immunities of UNHCR, the Recipient will give UNHCR sufficient prior notice of a request for the disclosure of the Confidential Information in order to allow UNHCR to have a reasonable opportunity to take protective measures or such other action as may be appropriate before any such disclosure is made.\\n2.5 The Recipient shall not be precluded from disclosing the Confidential Information that is (i) obtained by the Recipient without restriction from a third party who is not in breach of any obligation as to confidentiality to the owner of such Confidential Information or any other person, or (ii) disclosed by the Discloser to a third party without any obligation of confidentiality, or (iii) previously known by the Recipient, or (iv) at any time is developed by the Recipient completely independently of any disclosures hereunder.\\n2.6 The Recipient will not copy or reproduce the Confidential Information except as reasonably required for the purposes contemplated in this Agreement, and will ensure that any confidentiality or other proprietary rights notices on the Confidential Information are reproduced on all copies.\\n3. The Recipient acknowledges that UNHCR hereto makes no any representation or warranty, express or implied, as to the accuracy or completeness of the Confidential Information.\\n4. Nothing in this Agreement is to be construed as granting the Recipient, by implication or otherwise, any right whatsoever with respect to the Confidential Information or part thereof.\\n5. All Confidential Information in any form and any medium, including all copies thereof, disclosed to the Recipient shall be returned to UNHCR or destroyed: (a) if a business relationship is not entered into with UNHCR on or before the date which is three (3) months after the date both Parties have signed the Agreement; or (b) promptly upon request by the UNHCR at any time.\\n6. The Recipient agrees to indemnify UNHCR in respect of any expenses, losses, damages, costs, claims or liability UNHCR may suffer or incur as a result of an act or omission by the Recipient or its employees, consultants and agents in connection with the Confidential Information and the Recipient’s obligations under this Agreement.\\n7. Nothing in this Agreement shall be construed as obligating any Party to continue any discussions or to enter into a business relationship.\\n8. This Agreement shall enter into force on the date it is signed by both Parties. Either Party may terminate the working relationship contemplated by this Agreement by providing written notice to the other, provided, however, that the obligations and restrictions hereunder regarding the Confidential Information shall remain effective following any such termination or any other termination or expiration of this Agreement.\\n9. Any dispute, controversy or claim between the Parties arising out of, this Agreement or the breach, termination or invalidity thereof, unless settled amicably within twenty (20) days after receipt by one Party of the other Party's request for such amicable settlement, shall be referred by either Party to arbitration in accordance with the UNCITRAL Arbitration Rules then obtaining, including provisions on applicable law. The arbitral tribunal shall have no authority to award punitive damages. In addition, unless otherwise expressly provided in this Agreement, the arbitral tribunal shall have no authority to award interest. The Parties shall be bound by any arbitration award rendered as a result of such arbitration as the final adjudication of any such controversy, claim or dispute.\\n10. Nothing in or relating to this Agreement shall be deemed a waiver, express or implied, of any of the privileges and immunities of the United Nations, including UNHCR as its subsidiary organ.\\n11. The Recipient shall not advertise or otherwise make public the fact that it has a confidential relationship with UNHCR, nor shall the Recipient, in any manner whatsoever use the name, emblem, or official seal of the United Nations or UNHCR, or any abbreviation of the name of the United Nations or UNHCR in connection with its business or otherwise.\\n12. If any provision of this Agreement shall be held to be invalid, illegal or unenforceable, the validity, legality and enforceability of the remaining provisions shall not in any way be affected or impaired.\\n13. This Agreement constitutes the entire agreement concerning the subject matter hereof above and supersedes all prior representations, agreements and understandings, whether written or oral, by and between the Parties on the subject hereof.\\n14. The Parties acknowledge and agree that their representatives who have signed this Agreement had full authority to do so and to fully bind the Party being represented by doing so.\\nIN WITNESS WHEREOF, the Parties, acting through their authorized representatives, have caused this Agreement to be signed on the dates set forth below:\\nFor and on behalf of UNHCR: For and on behalf of the Bidder:\\n________________________ ________________________\\n Name: Name:\\nTitle: Title:\\n Date: Date:\\n\"]\n"
     ]
    }
   ],
   "source": [
    "train_texts = extract_text(train_data, key='documents')\n",
    "dev_texts = extract_text(dev_data, key='documents')\n",
    "test_texts = extract_text(test_data, key='documents')\n",
    "\n",
    "# Print the first 5 texts to verify\n",
    "print(train_texts[:1])"
   ]
  },
  {
   "cell_type": "code",
   "execution_count": 7,
   "id": "2dc609c4-6813-4fc7-b106-0a888383be0d",
   "metadata": {},
   "outputs": [
    {
     "name": "stdout",
     "output_type": "stream",
     "text": [
      "Number of samples:\n",
      "Train: 423, Dev: 61, Test: 123\n",
      "\n",
      "Average word count per document:\n",
      "Train: 1673.63, Dev: 1823.84, Test: 1708.82\n",
      "\n",
      "Label distribution in training set:\n",
      "Counter({'nda-11': {'short_description': 'No reverse engineering', 'hypothesis': \"Receiving Party shall not reverse engineer any objects which embody Disclosing Party's Confidential Information.\"}, 'nda-16': {'short_description': 'Return of confidential information', 'hypothesis': 'Receiving Party shall destroy or return some Confidential Information upon the termination of Agreement.'}, 'nda-15': {'short_description': 'No licensing', 'hypothesis': 'Agreement shall not grant Receiving Party any right to Confidential Information.'}, 'nda-10': {'short_description': 'Confidentiality of Agreement', 'hypothesis': 'Receiving Party shall not disclose the fact that Agreement was agreed or negotiated.'}, 'nda-2': {'short_description': 'None-inclusion of non-technical information', 'hypothesis': 'Confidential Information shall only include technical information.'}, 'nda-1': {'short_description': 'Explicit identification', 'hypothesis': 'All Confidential Information shall be expressly identified by the Disclosing Party.'}, 'nda-19': {'short_description': 'Survival of obligations', 'hypothesis': 'Some obligations of Agreement may survive termination of Agreement.'}, 'nda-12': {'short_description': 'Permissible development of similar information', 'hypothesis': 'Receiving Party may independently develop information similar to Confidential Information.'}, 'nda-20': {'short_description': 'Permissible post-agreement possession', 'hypothesis': 'Receiving Party may retain some Confidential Information even after the return or destruction of Confidential Information.'}, 'nda-3': {'short_description': 'Inclusion of verbally conveyed information', 'hypothesis': 'Confidential Information may include verbally conveyed information.'}, 'nda-18': {'short_description': 'No solicitation', 'hypothesis': \"Receiving Party shall not solicit some of Disclosing Party's representatives.\"}, 'nda-7': {'short_description': 'Sharing with third-parties', 'hypothesis': 'Receiving Party may share some Confidential Information with some third-parties (including consultants, agents and professional advisors).'}, 'nda-17': {'short_description': 'Permissible copy', 'hypothesis': 'Receiving Party may create a copy of some Confidential Information in some circumstances.'}, 'nda-8': {'short_description': 'Notice on compelled disclosure', 'hypothesis': 'Receiving Party shall notify Disclosing Party in case Receiving Party is required by law, regulation or judicial process to disclose any Confidential Information.'}, 'nda-13': {'short_description': 'Permissible acquirement of similar information', 'hypothesis': 'Receiving Party may acquire information similar to Confidential Information from a third party.'}, 'nda-5': {'short_description': 'Sharing with employees', 'hypothesis': \"Receiving Party may share some Confidential Information with some of Receiving Party's employees.\"}, 'nda-4': {'short_description': 'Limited use', 'hypothesis': 'Receiving Party shall not use any Confidential Information for any purpose other than the purposes stated in Agreement.'}})\n"
     ]
    }
   ],
   "source": [
    "# Count number of samples\n",
    "num_train = len(train_texts)\n",
    "num_dev = len(dev_texts)\n",
    "num_test = len(test_texts)\n",
    "\n",
    "# Function to calculate average word length\n",
    "def avg_word_len(texts):\n",
    "    return sum(len(text.split()) for text in texts) / len(texts)\n",
    "\n",
    "avg_train_words = avg_word_len(train_texts)\n",
    "avg_dev_words = avg_word_len(dev_texts)\n",
    "avg_test_words = avg_word_len(test_texts)\n",
    "\n",
    "# Optional: label distribution in training set\n",
    "from collections import Counter\n",
    "train_label_dist = Counter(train_data[\"labels\"])\n",
    "dev_label_dist = Counter(dev_data[\"labels\"])\n",
    "test_label_dist = Counter(test_data[\"labels\"])\n",
    "\n",
    "# Print results\n",
    "print(\"Number of samples:\")\n",
    "print(f\"Train: {num_train}, Dev: {num_dev}, Test: {num_test}\\n\")\n",
    "\n",
    "print(\"Average word count per document:\")\n",
    "print(f\"Train: {avg_train_words:.2f}, Dev: {avg_dev_words:.2f}, Test: {avg_test_words:.2f}\\n\")\n",
    "\n",
    "print(\"Label distribution in training set:\")\n",
    "print(train_label_dist)\n"
   ]
  },
  {
   "cell_type": "code",
   "execution_count": 9,
   "id": "047b6ab7-8ab4-4952-bfd7-64e3401b2c67",
   "metadata": {},
   "outputs": [
    {
     "data": {
      "image/png": "[encoded data removed]",
      "text/plain": [
       "<Figure size 600x400 with 1 Axes>"
      ]
     },
     "metadata": {},
     "output_type": "display_data"
    },
    {
     "data": {
      "image/png": "[encoded data removed]",
      "text/plain": [
       "<Figure size 600x400 with 1 Axes>"
      ]
     },
     "metadata": {},
     "output_type": "display_data"
    }
   ],
   "source": [
    "# Plot 1: Number of Samples\n",
    "plt.figure(figsize=(6, 4))\n",
    "plt.bar(['Train', 'Dev', 'Test'], [num_train, num_dev, num_test], color='skyblue')\n",
    "plt.title(\"Number of Samples per Dataset Split\")\n",
    "plt.ylabel(\"Number of Documents\")\n",
    "plt.tight_layout()\n",
    "plt.show()\n",
    "\n",
    "# Plot 2: Average Word Count\n",
    "plt.figure(figsize=(6, 4))\n",
    "plt.bar(['Train', 'Dev', 'Test'], [avg_train_words, avg_dev_words, avg_test_words], color='lightgreen')\n",
    "plt.title(\"Average Word Count per Document\")\n",
    "plt.ylabel(\"Average Word Count\")\n",
    "plt.tight_layout()\n",
    "plt.show()"
   ]
  },
  {
   "cell_type": "code",
   "execution_count": null,
   "id": "50a420c4-6df6-4334-9d13-46c2d1762783",
   "metadata": {},
   "outputs": [],
   "source": [
    "with open(\"dataset/legal_docs.txt\", \"w\", encoding=\"utf-8\") as f:\n",
    "    for doc in train_texts:\n",
    "        doc = doc.replace(\"\\n\", \" \").strip()  # Optional: flatten formatting\n",
    "        f.write(doc + \"\\n\\n\")  # Separate docs with double line breaks"
   ]
  },
  {
   "cell_type": "code",
   "execution_count": 31,
   "id": "117c1e78-767e-42dd-bfa4-4c2fa92c6c8b",
   "metadata": {},
   "outputs": [],
   "source": [
    "with open(\"dataset/legal_eval.txt\", \"w\", encoding=\"utf-8\") as f:\n",
    "    for doc in dev_texts:\n",
    "        doc = doc.replace(\"\\n\", \" \").strip()\n",
    "        f.write(doc + \"\\n\\n\")"
   ]
  },
  {
   "cell_type": "code",
   "execution_count": 22,
   "id": "1d781003-75b7-4fa0-9524-5962d676f73e",
   "metadata": {},
   "outputs": [
    {
     "name": "stdout",
     "output_type": "stream",
     "text": [
      "\n",
      "--- Document 1 ---\n",
      "NON-DISCLOSURE AND CONFIDENTIALITY AGREEMENT This NON-DISCLOSURE AND CONFIDENTIALITY AGREEMENT (“Agreement”) is made by and between: (i) the Office of the United Nations High Commissioner for Refugees, having its headquarters located at 94 rue de Montbrillant, 1202 Geneva, Switzerland (hereinafter “UNHCR” or the “Discloser”); and (ii) ________________________ , a company established in accordance with the laws of ________________________ and having its principal offices located at ______________...\n",
      "\n",
      "\n",
      "--- Document 2 ---\n",
      "NON-DISCLOSURE AGREEMENT AND TERMS OF PARTICIPATION Table of Content 1 Eligibility ..........................................................................................................................................2 2 Procedure and terms of participation ...............................................................................................3 3 Payment ......................................................................................................................................\n",
      "\n",
      "\n",
      "--- Document 3 ---\n",
      "Mutual Non-Disclosure and Use of Information Agreement to Support Emergency Cyber Mutual Assistance This Non-Disclosure and Use of Information Agreement (the \"Agreement'') is made and entered into as of this 15th day of June, 2016 by and among each entity that executes and delivers the signature page to this Agreement (each, a \"Participating Entity\" and collectively, the \"Participating Entities\"). A. Each Participating Entity is participating in a voluntary effort to assist the Electricity Subse...\n",
      "\n",
      "\n",
      "--- Document 4 ---\n",
      "MUTUAL NON-DISCLOSURE AGREEMENT This Non-Disclosure Agreement (“Agreement”) is made on ___ day of ___ 20__, (“effective date”) by and between _____________________, a _____________ Corporation, (“XXXXX”) and Data Boiler Technologies, LLC., a Massachusetts corporation (“DBT”). WHEREAS, DBT and XXX (the “Parties”) desire to engage in business related discussions and negotiations regarding a potential business relationship (“Transaction”). WHEREAS, the Parties may provide to each other certain conf...\n",
      "\n"
     ]
    }
   ],
   "source": [
    "output_path = \"dataset/legal_docs.txt\"\n",
    "\n",
    "with open(output_path, \"r\", encoding=\"utf-8\") as f:\n",
    "    preview = f.read().split(\"\\n\\n\")[:4]\n",
    "    for i, doc in enumerate(preview, 1):\n",
    "        print(f\"\\n--- Document {i} ---\\n{doc[:500]}...\\n\")"
   ]
  },
  {
   "cell_type": "code",
   "execution_count": 23,
   "id": "d83d09f5-fa96-4350-b3c7-38e610b3deac",
   "metadata": {},
   "outputs": [
    {
     "data": {
      "text/plain": [
       "Embedding(50257, 768)"
      ]
     },
     "execution_count": 23,
     "metadata": {},
     "output_type": "execute_result"
    }
   ],
   "source": [
    "model_name = \"gpt2\"\n",
    "tokenizer = GPT2Tokenizer.from_pretrained(model_name)\n",
    "tokenizer.pad_token = tokenizer.eos_token\n",
    "\n",
    "model = GPT2LMHeadModel.from_pretrained(model_name)\n",
    "model.resize_token_embeddings(len(tokenizer))"
   ]
  },
  {
   "cell_type": "code",
   "execution_count": 24,
   "id": "acd7f483-18d7-4917-b240-7cf8fac0a9cc",
   "metadata": {},
   "outputs": [
    {
     "name": "stderr",
     "output_type": "stream",
     "text": [
      "/home/jupyter-st124738/.local/lib/python3.12/site-packages/transformers/data/datasets/language_modeling.py:53: FutureWarning: This dataset will be removed from the library soon, preprocessing should be handled with the 🤗 Datasets library. You can have a look at this example script for pointers: https://github.com/huggingface/transformers/blob/main/examples/pytorch/language-modeling/run_mlm.py\n",
      "  warnings.warn(\n"
     ]
    }
   ],
   "source": [
    "def load_dataset(file_path, tokenizer, block_size=512):\n",
    "    return TextDataset(\n",
    "        tokenizer=tokenizer,\n",
    "        file_path=file_path,\n",
    "        block_size=block_size\n",
    "    )\n",
    "\n",
    "train_dataset = load_dataset(\"dataset/legal_docs.txt\", tokenizer)\n",
    "data_collator = DataCollatorForLanguageModeling(tokenizer=tokenizer, mlm=False)"
   ]
  },
  {
   "cell_type": "code",
   "execution_count": 25,
   "id": "0ca1c0d6-fc7d-4333-916e-24a69e9e1e8d",
   "metadata": {},
   "outputs": [
    {
     "name": "stderr",
     "output_type": "stream",
     "text": [
      "\u001b[34m\u001b[1mwandb\u001b[0m: \u001b[33mWARNING\u001b[0m The `run_name` is currently set to the same value as `TrainingArguments.output_dir`. If this was not intended, please specify a different run name by setting the `TrainingArguments.run_name` parameter.\n",
      "Failed to detect the name of this notebook, you can set it manually with the WANDB_NOTEBOOK_NAME environment variable to enable code saving.\n",
      "\u001b[34m\u001b[1mwandb\u001b[0m: Using wandb-core as the SDK backend.  Please refer to https://wandb.me/wandb-core for more information.\n",
      "\u001b[34m\u001b[1mwandb\u001b[0m: Currently logged in as: \u001b[33mst124738\u001b[0m (\u001b[33mst124738-asian-institute-of-technology\u001b[0m) to \u001b[32mhttps://api.wandb.ai\u001b[0m. Use \u001b[1m`wandb login --relogin`\u001b[0m to force relogin\n"
     ]
    },
    {
     "data": {
      "text/html": [
       "creating run (0.9s)"
      ],
      "text/plain": [
       "<IPython.core.display.HTML object>"
      ]
     },
     "metadata": {},
     "output_type": "display_data"
    },
    {
     "data": {
      "text/html": [
       "Tracking run with wandb version 0.19.7"
      ],
      "text/plain": [
       "<IPython.core.display.HTML object>"
      ]
     },
     "metadata": {},
     "output_type": "display_data"
    },
    {
     "data": {
      "text/html": [
       "Run data is saved locally in <code>/home/jupyter-st124738/NLP/project/wandb/run-20250408_142750-zu4itf5m</code>"
      ],
      "text/plain": [
       "<IPython.core.display.HTML object>"
      ]
     },
     "metadata": {},
     "output_type": "display_data"
    },
    {
     "data": {
      "text/html": [
       "Syncing run <strong><a href='https://wandb.ai/st124738-asian-institute-of-technology/huggingface/runs/zu4itf5m' target=\"_blank\">./gpt2_legal_model</a></strong> to <a href='https://wandb.ai/st124738-asian-institute-of-technology/huggingface' target=\"_blank\">Weights & Biases</a> (<a href='https://wandb.me/developer-guide' target=\"_blank\">docs</a>)<br>"
      ],
      "text/plain": [
       "<IPython.core.display.HTML object>"
      ]
     },
     "metadata": {},
     "output_type": "display_data"
    },
    {
     "data": {
      "text/html": [
       " View project at <a href='https://wandb.ai/st124738-asian-institute-of-technology/huggingface' target=\"_blank\">https://wandb.ai/st124738-asian-institute-of-technology/huggingface</a>"
      ],
      "text/plain": [
       "<IPython.core.display.HTML object>"
      ]
     },
     "metadata": {},
     "output_type": "display_data"
    },
    {
     "data": {
      "text/html": [
       " View run at <a href='https://wandb.ai/st124738-asian-institute-of-technology/huggingface/runs/zu4itf5m' target=\"_blank\">https://wandb.ai/st124738-asian-institute-of-technology/huggingface/runs/zu4itf5m</a>"
      ],
      "text/plain": [
       "<IPython.core.display.HTML object>"
      ]
     },
     "metadata": {},
     "output_type": "display_data"
    },
    {
     "name": "stderr",
     "output_type": "stream",
     "text": [
      "`loss_type=None` was set in the config but it is unrecognised.Using the default loss: `ForCausalLMLoss`.\n"
     ]
    },
    {
     "data": {
      "text/html": [
       "\n",
       "    <div>\n",
       "      \n",
       "      <progress value='2706' max='2706' style='width:300px; height:20px; vertical-align: middle;'></progress>\n",
       "      [2706/2706 06:07, Epoch 3/3]\n",
       "    </div>\n",
       "    <table border=\"1\" class=\"dataframe\">\n",
       "  <thead>\n",
       " <tr style=\"text-align: left;\">\n",
       "      <th>Step</th>\n",
       "      <th>Training Loss</th>\n",
       "    </tr>\n",
       "  </thead>\n",
       "  <tbody>\n",
       "    <tr>\n",
       "      <td>100</td>\n",
       "      <td>2.553900</td>\n",
       "    </tr>\n",
       "    <tr>\n",
       "      <td>200</td>\n",
       "      <td>2.385300</td>\n",
       "    </tr>\n",
       "    <tr>\n",
       "      <td>300</td>\n",
       "      <td>2.316900</td>\n",
       "    </tr>\n",
       "    <tr>\n",
       "      <td>400</td>\n",
       "      <td>2.270300</td>\n",
       "    </tr>\n",
       "    <tr>\n",
       "      <td>500</td>\n",
       "      <td>2.187900</td>\n",
       "    </tr>\n",
       "    <tr>\n",
       "      <td>600</td>\n",
       "      <td>2.199600</td>\n",
       "    </tr>\n",
       "    <tr>\n",
       "      <td>700</td>\n",
       "      <td>2.161800</td>\n",
       "    </tr>\n",
       "    <tr>\n",
       "      <td>800</td>\n",
       "      <td>2.160900</td>\n",
       "    </tr>\n",
       "    <tr>\n",
       "      <td>900</td>\n",
       "      <td>2.109800</td>\n",
       "    </tr>\n",
       "    <tr>\n",
       "      <td>1000</td>\n",
       "      <td>1.984900</td>\n",
       "    </tr>\n",
       "    <tr>\n",
       "      <td>1100</td>\n",
       "      <td>1.993300</td>\n",
       "    </tr>\n",
       "    <tr>\n",
       "      <td>1200</td>\n",
       "      <td>1.945900</td>\n",
       "    </tr>\n",
       "    <tr>\n",
       "      <td>1300</td>\n",
       "      <td>1.960800</td>\n",
       "    </tr>\n",
       "    <tr>\n",
       "      <td>1400</td>\n",
       "      <td>1.955200</td>\n",
       "    </tr>\n",
       "    <tr>\n",
       "      <td>1500</td>\n",
       "      <td>1.951700</td>\n",
       "    </tr>\n",
       "    <tr>\n",
       "      <td>1600</td>\n",
       "      <td>1.962200</td>\n",
       "    </tr>\n",
       "    <tr>\n",
       "      <td>1700</td>\n",
       "      <td>1.897500</td>\n",
       "    </tr>\n",
       "    <tr>\n",
       "      <td>1800</td>\n",
       "      <td>1.913500</td>\n",
       "    </tr>\n",
       "    <tr>\n",
       "      <td>1900</td>\n",
       "      <td>1.854900</td>\n",
       "    </tr>\n",
       "    <tr>\n",
       "      <td>2000</td>\n",
       "      <td>1.827300</td>\n",
       "    </tr>\n",
       "    <tr>\n",
       "      <td>2100</td>\n",
       "      <td>1.835100</td>\n",
       "    </tr>\n",
       "    <tr>\n",
       "      <td>2200</td>\n",
       "      <td>1.802900</td>\n",
       "    </tr>\n",
       "    <tr>\n",
       "      <td>2300</td>\n",
       "      <td>1.828700</td>\n",
       "    </tr>\n",
       "    <tr>\n",
       "      <td>2400</td>\n",
       "      <td>1.823700</td>\n",
       "    </tr>\n",
       "    <tr>\n",
       "      <td>2500</td>\n",
       "      <td>1.832100</td>\n",
       "    </tr>\n",
       "    <tr>\n",
       "      <td>2600</td>\n",
       "      <td>1.850700</td>\n",
       "    </tr>\n",
       "    <tr>\n",
       "      <td>2700</td>\n",
       "      <td>1.882600</td>\n",
       "    </tr>\n",
       "  </tbody>\n",
       "</table><p>"
      ],
      "text/plain": [
       "<IPython.core.display.HTML object>"
      ]
     },
     "metadata": {},
     "output_type": "display_data"
    },
    {
     "data": {
      "text/plain": [
       "TrainOutput(global_step=2706, training_loss=2.016021010264237, metrics={'train_runtime': 371.6418, 'train_samples_per_second': 14.554, 'train_steps_per_second': 7.281, 'total_flos': 1413328601088000.0, 'train_loss': 2.016021010264237, 'epoch': 3.0})"
      ]
     },
     "execution_count": 25,
     "metadata": {},
     "output_type": "execute_result"
    }
   ],
   "source": [
    "training_args = TrainingArguments(\n",
    "    output_dir=\"./gpt2_legal_model\",\n",
    "    overwrite_output_dir=True,\n",
    "    num_train_epochs=3,\n",
    "    per_device_train_batch_size=2,\n",
    "    save_steps=500,\n",
    "    save_total_limit=2,\n",
    "    logging_steps=100,\n",
    "    prediction_loss_only=True\n",
    ")\n",
    "\n",
    "trainer = Trainer(\n",
    "    model=model,\n",
    "    args=training_args,\n",
    "    data_collator=data_collator,\n",
    "    train_dataset=train_dataset,\n",
    ")\n",
    "\n",
    "trainer.train()"
   ]
  },
  {
   "cell_type": "code",
   "execution_count": 26,
   "id": "92d10f4d-ca52-446f-879b-25caf9b9685d",
   "metadata": {},
   "outputs": [
    {
     "data": {
      "image/png": "[encoded data removed]",
      "text/plain": [
       "<Figure size 800x500 with 1 Axes>"
      ]
     },
     "metadata": {},
     "output_type": "display_data"
    }
   ],
   "source": [
    "import matplotlib.pyplot as plt\n",
    "\n",
    "# Extract loss from trainer logs\n",
    "log_history = trainer.state.log_history\n",
    "loss_values = [entry[\"loss\"] for entry in log_history if \"loss\" in entry]\n",
    "steps = [entry[\"step\"] for entry in log_history if \"loss\" in entry]\n",
    "\n",
    "# Plot the loss\n",
    "plt.figure(figsize=(8, 5))\n",
    "plt.plot(steps, loss_values, marker='o')\n",
    "plt.xlabel(\"Training Step\")\n",
    "plt.ylabel(\"Loss\")\n",
    "plt.title(\"Training Loss Over Time\")\n",
    "plt.grid(True)\n",
    "plt.show()\n"
   ]
  },
  {
   "cell_type": "code",
   "execution_count": 32,
   "id": "062d07ee-3c35-45f8-b394-525ea34459b3",
   "metadata": {},
   "outputs": [
    {
     "name": "stderr",
     "output_type": "stream",
     "text": [
      "/home/jupyter-st124738/.local/lib/python3.12/site-packages/transformers/data/datasets/language_modeling.py:53: FutureWarning: This dataset will be removed from the library soon, preprocessing should be handled with the 🤗 Datasets library. You can have a look at this example script for pointers: https://github.com/huggingface/transformers/blob/main/examples/pytorch/language-modeling/run_mlm.py\n",
      "  warnings.warn(\n"
     ]
    }
   ],
   "source": [
    "from transformers import TextDataset\n",
    "\n",
    "eval_dataset = TextDataset(\n",
    "    tokenizer=tokenizer,\n",
    "    file_path=\"dataset/legal_eval.txt\",\n",
    "    block_size=512\n",
    ")"
   ]
  },
  {
   "cell_type": "code",
   "execution_count": 33,
   "id": "30701777-9782-4fbd-8315-b73f8bbaea32",
   "metadata": {},
   "outputs": [
    {
     "data": {
      "text/html": [
       "\n",
       "    <div>\n",
       "      \n",
       "      <progress value='36' max='36' style='width:300px; height:20px; vertical-align: middle;'></progress>\n",
       "      [36/36 00:04]\n",
       "    </div>\n",
       "    "
      ],
      "text/plain": [
       "<IPython.core.display.HTML object>"
      ]
     },
     "metadata": {},
     "output_type": "display_data"
    },
    {
     "name": "stdout",
     "output_type": "stream",
     "text": [
      "{'eval_loss': 1.957987904548645, 'eval_runtime': 4.2266, 'eval_samples_per_second': 66.721, 'eval_steps_per_second': 8.518, 'epoch': 3.0}\n"
     ]
    }
   ],
   "source": [
    "eval_results = trainer.evaluate(eval_dataset=eval_dataset)\n",
    "print(eval_results)"
   ]
  },
  {
   "cell_type": "code",
   "execution_count": 34,
   "id": "9942384d-567c-44f7-bf6e-10014c16cd5e",
   "metadata": {},
   "outputs": [
    {
     "name": "stdout",
     "output_type": "stream",
     "text": [
      "Perplexity: 7.09\n"
     ]
    }
   ],
   "source": [
    "import math\n",
    "perplexity = math.exp(eval_results[\"eval_loss\"])\n",
    "print(f\"Perplexity: {perplexity:.2f}\")"
   ]
  },
  {
   "cell_type": "code",
   "execution_count": 27,
   "id": "41e1e327-dded-48ab-ad84-f8b7e41c2ad4",
   "metadata": {},
   "outputs": [
    {
     "data": {
      "text/plain": [
       "('./gpt2_legal_model/tokenizer_config.json',\n",
       " './gpt2_legal_model/special_tokens_map.json',\n",
       " './gpt2_legal_model/vocab.json',\n",
       " './gpt2_legal_model/merges.txt',\n",
       " './gpt2_legal_model/added_tokens.json')"
      ]
     },
     "execution_count": 27,
     "metadata": {},
     "output_type": "execute_result"
    }
   ],
   "source": [
    "trainer.save_model(\"./gpt2_legal_model\")\n",
    "tokenizer.save_pretrained(\"./gpt2_legal_model\")"
   ]
  },
  {
   "cell_type": "code",
   "execution_count": 38,
   "id": "6a25986a-d7ab-4f5b-a488-18c2850674fe",
   "metadata": {},
   "outputs": [
    {
     "name": "stderr",
     "output_type": "stream",
     "text": [
      "The attention mask and the pad token id were not set. As a consequence, you may observe unexpected behavior. Please pass your input's `attention_mask` to obtain reliable results.\n",
      "Setting `pad_token_id` to `eos_token_id`:50256 for open-end generation.\n"
     ]
    },
    {
     "name": "stdout",
     "output_type": "stream",
     "text": [
      "Generated:\n",
      " THIS AGREEMENT is _________, and is entered into this ____________, ____________, by and between _________________________________, _________________________________, and ______________________________________________________________________, each of which is a party hereto and each of which is a party hereto. NOW, THEREFORE, in consideration of the covenants and agreements contained herein, the parties hereto agree as follows: 1. Purpose. The term “Party” means any individual, corporation, association, limited liability company, partnership, limited liability company, other legal entity, partnership, government agency, trust, corporation, trust, corporation, government agency, trust, partnership, other legal entity, partnership, government agency, trust, corporation, trust, corporation, government agency, trust, partnership, other legal entity, partnership, government agency, trust, partnership, other legal entity, partnership, government agency, trust, partnership, other legal entity, partnership, government agency, trust, partnership, other legal entity, partnership, government agency, trust, partnership, other legal entity, partnership, government agency, trust, partnership, other legal entity, partnership, government agency, trust, partnership, other legal entity, partnership, government agency, trust, partnership, other legal entity, partnership, government agency, trust, partnership, other legal entity, partnership, government agency, trust, partnership, other legal entity, partnership, government agency, trust, partnership, other legal entity, partnership, government agency, trust, partnership,\n"
     ]
    }
   ],
   "source": [
    "#inference\n",
    "from transformers import GPT2LMHeadModel, GPT2Tokenizer\n",
    "\n",
    "model = GPT2LMHeadModel.from_pretrained(\"./gpt2_legal_model\")\n",
    "tokenizer = GPT2Tokenizer.from_pretrained(\"./gpt2_legal_model\")\n",
    "\n",
    "prompt = \"THIS AGREEMENT is \"\n",
    "input_ids = tokenizer(prompt, return_tensors=\"pt\").input_ids\n",
    "\n",
    "output = model.generate(\n",
    "    input_ids,\n",
    "    max_length=300,\n",
    "    temperature=0.8,\n",
    "    top_p=0.95,\n",
    "    top_k=50,\n",
    "    do_sample=True,\n",
    "    num_return_sequences=1\n",
    ")\n",
    "\n",
    "generated_text = tokenizer.decode(output[0], skip_special_tokens=True)\n",
    "print(\"Generated:\\n\", generated_text)"
   ]
  },
  {
   "cell_type": "code",
   "execution_count": 39,
   "id": "82b5b496-ce35-4af6-9397-8eef0a74bfd0",
   "metadata": {},
   "outputs": [],
   "source": [
    "def load_data(file_path):\n",
    "    with open(file_path, 'r', encoding='utf-8') as f:\n",
    "        return json.load(f)\n",
    "\n",
    "def extract_text(data, key='documents'):\n",
    "    return [entry.get('text', '') for entry in data.get(key, [])]\n",
    "\n",
    "reference_data = load_data(\"dataset/dev.json\")\n",
    "reference_texts = extract_text(reference_data)"
   ]
  },
  {
   "cell_type": "code",
   "execution_count": 40,
   "id": "64e7d2f8-83a9-4921-afba-33889e3e5f4a",
   "metadata": {},
   "outputs": [
    {
     "name": "stderr",
     "output_type": "stream",
     "text": [
      "Some weights of RobertaModel were not initialized from the model checkpoint at roberta-large and are newly initialized: ['roberta.pooler.dense.bias', 'roberta.pooler.dense.weight']\n",
      "You should probably TRAIN this model on a down-stream task to be able to use it for predictions and inference.\n"
     ]
    },
    {
     "name": "stdout",
     "output_type": "stream",
     "text": [
      "calculating scores...\n",
      "computing bert embedding.\n"
     ]
    },
    {
     "data": {
      "application/vnd.jupyter.widget-view+json": {
       "model_id": "d4d1846004904d9a9bcec1596d929e9c",
       "version_major": 2,
       "version_minor": 0
      },
      "text/plain": [
       "  0%|          | 0/1 [00:00<?, ?it/s]"
      ]
     },
     "metadata": {},
     "output_type": "display_data"
    },
    {
     "name": "stdout",
     "output_type": "stream",
     "text": [
      "computing greedy matching.\n"
     ]
    },
    {
     "data": {
      "application/vnd.jupyter.widget-view+json": {
       "model_id": "9ea871a549f5477d892f3ce71ec8f2f9",
       "version_major": 2,
       "version_minor": 0
      },
      "text/plain": [
       "  0%|          | 0/1 [00:00<?, ?it/s]"
      ]
     },
     "metadata": {},
     "output_type": "display_data"
    },
    {
     "name": "stdout",
     "output_type": "stream",
     "text": [
      "done in 0.20 seconds, 5.02 sentences/sec\n",
      "\n",
      "🔍 BERTScore:\n",
      "Precision: 0.7456\n",
      "Recall:    0.7663\n",
      "F1 Score:  0.7558\n"
     ]
    }
   ],
   "source": [
    "from bert_score import score\n",
    "\n",
    "# Make sure both lists are same length (for demo, let's use 1-to-1)\n",
    "candidates = [generated_text]  # from generation\n",
    "references = [reference_texts[0]]  # pick a similar-length target reference\n",
    "\n",
    "P, R, F1 = score(candidates, references, lang=\"en\", verbose=True)\n",
    "\n",
    "print(f\"\\n🔍 BERTScore:\")\n",
    "print(f\"Precision: {P.mean().item():.4f}\")\n",
    "print(f\"Recall:    {R.mean().item():.4f}\")\n",
    "print(f\"F1 Score:  {F1.mean().item():.4f}\")"
   ]
  }
 ],
 "metadata": {
  "kernelspec": {
   "display_name": "Python 3 (ipykernel)",
   "language": "python",
   "name": "python3"
  },
  "language_info": {
   "codemirror_mode": {
    "name": "ipython",
    "version": 3
   },
   "file_extension": ".py",
   "mimetype": "text/x-python",
   "name": "python",
   "nbconvert_exporter": "python",
   "pygments_lexer": "ipython3",
   "version": "3.12.6"
  }
 },
 "nbformat": 4,
 "nbformat_minor": 5
}
